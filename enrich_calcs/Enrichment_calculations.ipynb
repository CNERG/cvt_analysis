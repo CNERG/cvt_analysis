{
 "cells": [
  {
   "cell_type": "code",
   "execution_count": 5,
   "metadata": {
    "collapsed": false
   },
   "outputs": [
    {
     "name": "stdout",
     "output_type": "stream",
     "text": [
      "Populating the interactive namespace from numpy and matplotlib\n"
     ]
    }
   ],
   "source": [
    "# Render our plots inline\n",
    "%matplotlib inline\n",
    "%pylab inline  \n",
    "import numpy as np\n",
    "import pandas as pd\n",
    "import matplotlib as mpl\n",
    "import matplotlib.pyplot as plt\n",
    "import matplotlib.mlab as mlab\n",
    "\n",
    "# General Plotting Parameters\n",
    "mpl.rcParams['figure.figsize'] = (8,5)\n",
    "mpl.rcParams['lines.linewidth'] = 2.5\n",
    "mpl.rcParams['font.weight'] = 'bold'\n",
    "mpl.rcParams['axes.linewidth'] = 1.5\n",
    "mpl.rcParams['font.size'] = 14.\n",
    "mpl.rcParams['legend.fontsize'] = 12.\n",
    "mpl.rcParams['axes.labelsize'] = 12.\n",
    "mpl.rcParams['xtick.labelsize'] = 10.\n",
    "mpl.rcParams['ytick.labelsize'] = 10.\n",
    "mpl.rcParams['xtick.minor.pad'] = 4\n",
    "mpl.rcParams['xtick.direction'] = 'out'\n",
    "mpl.rcParams['ytick.direction'] = 'out'\n",
    "\n",
    "#Git says this is patched, but it doesn't work from Pip --upgrade 26-mar-2015\n",
    "#mpl.rcParams['xtick.minor.visible'] = True  \n",
    "\n",
    "# These are the \"Tableau 20\" colors as RGB.  \n",
    "tableau20 = [(31, 119, 180), (174, 199, 232), (255, 127, 14),\n",
    "             (255, 187, 120), (44, 160, 44), (152, 223, 138),\n",
    "              (148, 103, 189),\n",
    "             (197, 176, 213), (140, 86, 75), (196, 156, 148),  \n",
    "             (227, 119, 194), (247, 182, 210), (127, 127, 127),\n",
    "             (199, 199, 199), (188, 189, 34), (219, 219, 141),\n",
    "             (23, 190, 207), (158, 218, 229),(214, 39, 40), (255, 152, 150)]  \n",
    "    \n",
    "# Scale the RGB values to the [0, 1] range,\n",
    "# which is the format matplotlib accepts.  \n",
    "for i in range(len(tableau20)): \n",
    "    r, g, b = tableau20[i]  \n",
    "    tableau20[i] = (r / 255., g / 255., b / 255.)  "
   ]
  },
  {
   "cell_type": "code",
   "execution_count": 6,
   "metadata": {
    "collapsed": false
   },
   "outputs": [],
   "source": [
    "import calc_enrich\n",
    "reload(calc_enrich)\n",
    "from calc_enrich import calc_del_U\n",
    "from calc_enrich import stages_per_cascade\n",
    "from calc_enrich import N_product_by_alpha\n",
    "from calc_enrich import N_waste_by_alpha\n",
    "from calc_enrich import machines_per_enr_stage\n",
    "from calc_enrich import machines_per_strip_stage\n",
    "from calc_enrich import product_per_enr_stage\n",
    "from calc_enrich import waste_per_strip_stage\n",
    "from calc_enrich import Npc_from_Nstages\n",
    "from calc_enrich import Nwc_from_Nstages\n",
    "from calc_enrich import machines_per_cascade\n",
    "from calc_enrich import allowed_feed_per_stage"
   ]
  },
  {
   "cell_type": "markdown",
   "metadata": {},
   "source": [
    "For a type of centrifuge and some cascade guidelines, design the cascade\n",
    "Start at nat U, enrich to 3.5%, \n",
    "Use IR-1 machines (Inst Sci Intl Security, IAEA 2014)"
   ]
  },
  {
   "cell_type": "code",
   "execution_count": 22,
   "metadata": {
    "collapsed": false
   },
   "outputs": [],
   "source": [
    "# centrifuge params \n",
    "#omega = 64000\n",
    "#d = 0.1  # m \n",
    "#Z = 2.0   # m\n",
    "#F_m_hrs = 70 # grams/hr  \n",
    "#T = 320.0   # K\n",
    "#cut = 0.5\n",
    "eff = 1.0 # centrifuge efficiency\n",
    "\n",
    "d = 0.15  # m \n",
    "Z = 1.0   # m\n",
    "F_m_hrs = 15*60*60/(1e3) # grams/hr  \n",
    "T = 320.0# K\n",
    "cut = 0.5\n",
    "omega = 485/(d/2)\n",
    "\n",
    "# cascade params\n",
    "Nfc = 0.007\n",
    "Npc = 0.035\n",
    "Nwc = 0.003\n",
    "Fc_month = 900 #kg/month\n",
    "\n",
    "# The feed enrichment to be used when using a cascade designed for LEU to produce HEU.\n",
    "Nfc_mod = 0.035\n",
    "Fc_month_mod = Fc_month #kg/month\n",
    "#Fc_month_mod = 46 #kg/month\n",
    "\n",
    "#unit conversions\n",
    "v_a = omega * (d/2.0)\n",
    "F_m = F_m_hrs/(60*60*1000.0)\n",
    "Fc = Fc_month/(30.4*24*60*60)\n",
    "Fc_mod = Fc_month_mod/(30.4*24*60*60)\n",
    "\n",
    "\n",
    "# Comparison numbers (not needed for calculations)\n",
    "del_U_th_yr = 1.1 #swu/yr\n",
    "del_U_obs_yr = 0.71 #Swu/yr\n",
    "del_U_th = del_U_th_yr/(365.25*24*60*60) #kgSWU/sec\n",
    "del_U_obs = del_U_obs_yr/(365.25*24*60*60)\n",
    "\n",
    "Pc_month = 77 #kg/month\n",
    "Pc = Pc_month/(30.4*24*60*60)\n"
   ]
  },
  {
   "cell_type": "code",
   "execution_count": null,
   "metadata": {
    "collapsed": true
   },
   "outputs": [],
   "source": []
  },
  {
   "cell_type": "code",
   "execution_count": 23,
   "metadata": {
    "collapsed": false
   },
   "outputs": [
    {
     "name": "stdout",
     "output_type": "stream",
     "text": [
      "del_U is 3.1939942861e-07  alpha is  1.34782845204\n"
     ]
    }
   ],
   "source": [
    "alpha, del_U, del_U_yr = calc_del_U(v_a, Z, d, F_m, T, cut, eff)\n",
    "print \"del_U is\", del_U, \" alpha is \", alpha\n",
    "#n_enrich_s, n_strip_s= stages_per_cascade(alpha, Nfc, Npc, Nwc)\n",
    "#print \"number of enrich, strip stages is \", n_enrich_s, n_strip_s, alpha\n",
    "#print del_U*60*60*24*365.25, del_U_th\n",
    "\n",
    "#n_cf = machines_per_cascade(del_U, Npc, Nwc, Fc, Pc)\n",
    "#print \"number machines per cascade ideal\", n_cf"
   ]
  },
  {
   "cell_type": "code",
   "execution_count": 24,
   "metadata": {
    "collapsed": false
   },
   "outputs": [
    {
     "name": "stdout",
     "output_type": "stream",
     "text": [
      "stage, #mach,    Feed,          Product,       feed assay,     product assay\n",
      "0 64.8964978735 0.000342653508772 0.000171743900624 0.007 0.00941188311913\n",
      "1 32.5272539061 0.000171743900624 8.61530710966e-05 0.00941188311913 0.012644210242\n",
      "2 16.3168695259 8.61530710966e-05 4.32659868441e-05 0.012644210242 0.016967602529\n",
      "3 8.19431569017 4.32659868441e-05 2.17606673455e-05 0.016967602529 0.022735238283\n",
      "4 4.1213385124 2.17606673455e-05 1.0966374946e-05 0.022735238283 0.0304027769941\n",
      "5 2.07696495189 1.0966374946e-05 5.54117191108e-06 0.0304027769941 0.0405489249648\n",
      "6 1.0494643771 5.54117191108e-06 2.80966249325e-06 0.0405489249648 0.0538928857449\n",
      "feed for cascade (kg/mon) 888.157894737\n",
      "product of cascade (kg/mon) 7.2826451825\n"
     ]
    }
   ],
   "source": [
    "# Calculate the desired number of enrichment stages and machines per stage by ending\n",
    "# the stages when there is less than an integer machine\n",
    "Nfs = Nfc\n",
    "Fs = Fc\n",
    "\n",
    "enrich_stages = []\n",
    "int_stages = True\n",
    "n_stage_enr = 0\n",
    "print \"stage, #mach,    Feed,          Product,       feed assay,     product assay\"\n",
    "while (int_stages == True):\n",
    "    n_mach_enr = machines_per_enr_stage(alpha, del_U, Fs)\n",
    "    if (int(n_mach_enr) <= 1):\n",
    "        int_stages = False\n",
    "    Nps = N_product_by_alpha(alpha, Nfs)\n",
    "    Ps = product_per_enr_stage(alpha, Nfs, Nps, Fs)\n",
    "    enrich_stages.append([n_stage_enr, n_mach_enr])\n",
    "    if (n_stage_enr == 1):\n",
    "        W_enr1 = Fs - Ps\n",
    "        Nw_enr1 = (Fs*Nfs - Ps*Nps)/W_enr1\n",
    "    print n_stage_enr, n_mach_enr, Fs, Ps,  Nfs, Nps\n",
    "    Nfs = Nps\n",
    "    Fs = Ps\n",
    "    n_stage_enr+=1\n",
    "\n",
    "print \"feed for cascade (kg/mon)\" , Fc*60*60*24*30\n",
    "print \"product of cascade (kg/mon)\" , Fs*60*60*24*30\n"
   ]
  },
  {
   "cell_type": "code",
   "execution_count": 25,
   "metadata": {
    "collapsed": false
   },
   "outputs": [
    {
     "name": "stdout",
     "output_type": "stream",
     "text": [
      "stage, #mach,       Feed,    W_strip,   Nf_strip,   Nw_strip\n",
      "1 16.2103843803 8.55908295278e-05 5.75892081471e-05 0.00615832301276 0.00457634331259\n",
      "2 10.9070469976 5.75892081471e-05 3.87643518913e-05 0.00457634331259 0.00339936016885\n",
      "3 7.34173331275 3.87643518913e-05 2.61009308299e-05 0.00339936016885 0.00252431598416\n",
      "4 4.94335811172 2.61009308299e-05 1.75783299126e-05 0.00252431598416 0.00187409717598\n",
      "5 3.32922915011 1.75783299126e-05 1.18405572547e-05 0.00187409717598 0.00139112956168\n",
      "6 2.24252978309 1.18405572547e-05 7.97665530645e-06 0.00139112956168 0.00103249724296\n",
      "7 1.51073017168 7.97665530645e-06 5.37414915132e-06 0.00103249724296 0.000766249166149\n",
      "waste of cascade (kg/mon) 13.9297946002\n",
      "Feed for strip  5.37414915132e-06\n"
     ]
    }
   ],
   "source": [
    "epsilon = alpha - 1.0\n",
    "F_strip = W_enr1\n",
    "Nf_strip = Nw_enr1\n",
    "\n",
    "# Consider the zeroth stage of cascade to be on enrich side (iterate from 0), \n",
    "# then iterate from 1 for strip side\n",
    "print \"stage, #mach,       Feed,    W_strip,   Nf_strip,   Nw_strip\"\n",
    "strip_stages = []\n",
    "int_stages = True\n",
    "n_stage_str = 1\n",
    "while (int_stages == True):\n",
    "    n_mach_s= machines_per_strip_stage(alpha, del_U, F_strip)\n",
    "    if (int(n_mach_s) <= 1):\n",
    "        int_stages = False\n",
    "    Nw_strip = N_waste_by_alpha(alpha, Nf_strip)\n",
    "    W_strip = waste_per_strip_stage(alpha, Nf_strip, Nw_strip, F_strip)\n",
    "    strip_stages.append([-1*n_stage_str,n_mach_s])\n",
    "    print n_stage_str, n_mach_s, F_strip, W_strip, Nf_strip, Nw_strip\n",
    "    F_strip = W_strip\n",
    "    Nf_strip = Nw_strip\n",
    "    n_stage_str+=1\n",
    "\n",
    "print \"waste of cascade (kg/mon)\" , W_strip*60*60*24*30\n",
    "print \"Feed for strip \", F_strip"
   ]
  },
  {
   "cell_type": "raw",
   "metadata": {
    "collapsed": false
   },
   "source": [
    "# COMMENTED OUT TO USE WHILE LOOP ABOVE INSTEAD\n",
    "\n",
    "n_stage_en = int(n_enrich_s) + 1  # add one for extra partial stage lost in rounding\n",
    "print \"N Enrich\", n_enrich_s, \" Rounded \", n_stage_en\n",
    "\n",
    "\n",
    "epsilon = alpha - 1.0\n",
    "# starting feed stages and enrichment are starting cascade values\n",
    "Nfs = Nfc\n",
    "Fs = Fc\n",
    "print \"stage, #mach, Feed,   Product,    N_F,     N_P\"\n",
    "# http://books.sipri.org/files/books/SIPRI83Krass/SIPRI83Krass05.pdf\n",
    "# eqn 5.8 says Total # stages is N_strip + N_enrich + 1  (presumably the feed stage)\n",
    "enrich_stages = []\n",
    "for i in range(0, n_stage_en-1):  \n",
    "    Nps = N_product_by_alpha(alpha, Nfs)\n",
    "    n_mach = machines_per_enr_stage(alpha, del_U, Fs)\n",
    "    Ps = product_per_enr_stage(alpha, Nfs, Nps, Fs)\n",
    "    enrich_stages.append([i, n_mach])\n",
    "    if (i == 1):\n",
    "        W_enr1 = Fs - Ps\n",
    "        Nw_enr1 = (Fs*Nfs - Ps*Nps)/W_enr1\n",
    "    print i, n_mach, Fs, Ps,  Nfs, Nps\n",
    "    Nfs = Nps\n",
    "    Fs = Ps\n",
    "\n",
    "print \"feed for cascade (kg/mon)\" , Fc*60*60*24*30\n",
    "print \"product of cascade (kg/mon)\" , Fs*60*60*24*30\n",
    "enrich_stages"
   ]
  },
  {
   "cell_type": "raw",
   "metadata": {
    "collapsed": false
   },
   "source": [
    "# COMMENTED OUT TO USE WHILE LOOP ABOVE INSTEAD\n",
    "\n",
    "\n",
    "n_stage_str = int(n_strip_s) + 1  # add one for extra partial stage lost in rounding\n",
    "print \"N STrip\", n_strip_s, \" Rounded \", n_stage_str\n",
    "epsilon = alpha - 1.0\n",
    "\n",
    "F_strip = W_enr1\n",
    "Nf_strip = Nw_enr1\n",
    "\n",
    "print \"stage, #mach,       Feed,    W_strip,   Nf_strip,   Nw_strip\"\n",
    "strip_stages = []\n",
    "# Consider the zeroth stage of cascade to be on enrich side (iterate from 0), \n",
    "# then iterate from 1 for strip side\n",
    "for i in range(1, n_stage_str):  \n",
    "    Nw_strip = N_waste_by_alpha(alpha, Nf_strip)\n",
    "    n_mach_s= machines_per_strip_stage(alpha, del_U, F_strip)\n",
    "    W_strip = waste_per_strip_stage(alpha, Nf_strip, Nw_strip, F_strip)\n",
    "    strip_stages.append([-1*i,n_mach_s])\n",
    "    print i, n_mach_s, F_strip, W_strip, Nf_strip, Nw_strip\n",
    "    F_strip = W_strip\n",
    "    Nf_strip = Nw_strip\n",
    "\n",
    "print \"waste of cascade (kg/mon)\" , W_strip*60*60*24*30\n",
    "print \"Feed for strip \", F_strip"
   ]
  },
  {
   "cell_type": "code",
   "execution_count": 26,
   "metadata": {
    "collapsed": false
   },
   "outputs": [
    {
     "data": {
      "image/png": "[encoded data removed]",
      "text/plain": [
       "<matplotlib.figure.Figure at 0x7f285c434150>"
      ]
     },
     "metadata": {},
     "output_type": "display_data"
    }
   ],
   "source": [
    "all_stages = np.array(strip_stages+enrich_stages)\n",
    "n_centrifuges = np.sum(all_stages[:,1], axis=0)\n",
    "\n",
    "bar_width = 0.8\n",
    "bar_res = plt.bar(all_stages[:,0], all_stages[:,1], bar_width)\n",
    "\n",
    "plt.xlabel('Stage')\n",
    "plt.ylabel('# Centrifuges')\n",
    "plt.title(str(int(n_centrifuges)) + \" Centrifuge Cascade\")\n",
    "plt.legend()\n",
    "\n",
    "plt.tight_layout()\n",
    "plt.show()\n"
   ]
  },
  {
   "cell_type": "markdown",
   "metadata": {
    "collapsed": true
   },
   "source": [
    "Given the ideal cascade above, how does the product enrichment change with different feed enrichment?\n",
    "How much new product is produced given the new feed rate?"
   ]
  },
  {
   "cell_type": "code",
   "execution_count": 27,
   "metadata": {
    "collapsed": false
   },
   "outputs": [
    {
     "name": "stdout",
     "output_type": "stream",
     "text": [
      "Cascade optimized for feed assay=  0.007\n",
      "When used with feed assay=  0.035  product assay=  0.292767461059  tails assay=  0.00223917152063\n",
      "NEnrich 7  NStrip  8\n"
     ]
    }
   ],
   "source": [
    "Npc_mod = Npc_from_Nstages(alpha, Nfc_mod, n_stage_enr)\n",
    "Nwc_mod = Nwc_from_Nstages(alpha, Nfc_mod, n_stage_str)\n",
    "\n",
    "print \"Cascade optimized for feed assay= \", Nfc\n",
    "print \"When used with feed assay= \", Nfc_mod, \" product assay= \", Npc_mod, \" tails assay= \", Nwc_mod \n",
    "print \"NEnrich\", n_stage_enr, \" NStrip \" , n_stage_str"
   ]
  },
  {
   "cell_type": "code",
   "execution_count": 28,
   "metadata": {
    "collapsed": false
   },
   "outputs": [
    {
     "name": "stdout",
     "output_type": "stream",
     "text": [
      "stage, Feed,   Product,    feed assay,     product assay\n",
      "0 0.000342653508772 0.000173412485578 0.035 0.0466066071804\n",
      "1 0.000173412485578 8.81118467109e-05 0.0466066071804 0.0618156118956\n",
      "2 8.81118467109e-05 4.50031798346e-05 0.0618156118956 0.0815631329271\n",
      "3 4.50031798346e-05 2.31399595343e-05 0.0815631329271 0.106900350574\n",
      "4 2.31399595343e-05 1.20001861335e-05 0.106900350574 0.138917950192\n",
      "5 1.20001861335e-05 6.29001525715e-06 0.138917950192 0.178607328324\n",
      "6 6.29001525715e-06 3.34039031713e-06 0.178607328324 0.226651387046\n",
      "product of cascade (kg/mon) 8.658291702\n"
     ]
    }
   ],
   "source": [
    "# starting feed stages and enrichment are starting cascade values\n",
    "Nfs = Nfc_mod\n",
    "Fs_mod = Fc_mod\n",
    "print \"stage, Feed,   Product,    feed assay,     product assay\"\n",
    "enrich_stages = []\n",
    "for i in range(0, n_stage_enr):  \n",
    "    Nps = N_product_by_alpha(alpha, Nfs)\n",
    "    Ps_mod = product_per_enr_stage(alpha, Nfs, Nps, Fs_mod)\n",
    "    if (i == 1):\n",
    "        W_enr1_mod = Fs_mod - Ps_mod\n",
    "        Nw_enr1_mod = (Fs_mod*Nfs - Ps_mod*Nps)/W_enr1\n",
    "    print i, Fs_mod, Ps_mod,  Nfs, Nps\n",
    "    Nfs = Nps\n",
    "    Fs_mod = Ps_mod\n",
    "print \"product of cascade (kg/mon)\" , Fs_mod*60*60*24*30"
   ]
  },
  {
   "cell_type": "code",
   "execution_count": 29,
   "metadata": {
    "collapsed": false
   },
   "outputs": [
    {
     "name": "stdout",
     "output_type": "stream",
     "text": [
      "stage,    Feed,    W_strip,   feed assay (strip),   waste assay (strip)\n",
      "1 8.5300638867e-05 5.70285205783e-05 0.0307916150638 0.0230283409955\n",
      "2 5.70285205783e-05 3.82039345852e-05 0.0230283409955 0.0171876566197\n",
      "3 3.82039345852e-05 2.56319766462e-05 0.0171876566197 0.0128089245366\n",
      "4 2.56319766462e-05 1.72166545226e-05 0.0128089245366 0.00953489698466\n",
      "5 1.72166545226e-05 1.15739988171e-05 0.00953489698466 0.00709171609087\n",
      "6 1.15739988171e-05 7.78560765967e-06 0.00709171609087 0.00527123361685\n",
      "7 7.78560765967e-06 5.23969436252e-06 0.00527123361685 0.00391623575574\n",
      "waste of cascade (kg/mon) 13.5812877877\n"
     ]
    }
   ],
   "source": [
    "F_strip_mod = W_enr1_mod\n",
    "Nf_strip = Nw_enr1_mod\n",
    "\n",
    "print \"stage,    Feed,    W_strip,   feed assay (strip),   waste assay (strip)\"\n",
    "strip_stages = []\n",
    "for i in range(1, n_stage_str):  \n",
    "    Nw_strip = N_waste_by_alpha(alpha, Nf_strip)\n",
    "    W_strip_mod = waste_per_strip_stage(alpha, Nf_strip, Nw_strip, F_strip_mod)\n",
    "    strip_stages.append([-1*i,n_mach_s])\n",
    "    print i, F_strip_mod, W_strip_mod, Nf_strip, Nw_strip\n",
    "    F_strip_mod = W_strip_mod\n",
    "    Nf_strip = Nw_strip\n",
    "    \n",
    "print \"waste of cascade (kg/mon)\" , W_strip_mod*60*60*24*30\n"
   ]
  },
  {
   "cell_type": "markdown",
   "metadata": {
    "collapsed": true
   },
   "source": [
    "Design a Cascade For a Fixed Number of Centrifuges\n",
    "(But need more info to determine whether to adjust feed rate or waste assay to reach target)"
   ]
  },
  {
   "cell_type": "code",
   "execution_count": 30,
   "metadata": {
    "collapsed": false
   },
   "outputs": [
    {
     "name": "stdout",
     "output_type": "stream",
     "text": [
      "stage, #mach, Feed,   Product,    feed assay,     product assay\n",
      "0 65.0 0.000342653508772 0.000171743900624 0.007 0.00941188311913\n",
      "1 33.0 0.000171743900624 8.61530710966e-05 0.00941188311913 0.012644210242\n",
      "2 16.0 8.61530710966e-05 4.32659868441e-05 0.012644210242 0.016967602529\n",
      "3 8.0 4.32659868441e-05 2.17606673455e-05 0.016967602529 0.022735238283\n",
      "4 4.0 2.17606673455e-05 1.0966374946e-05 0.022735238283 0.0304027769941\n",
      "5 2.0 1.0966374946e-05 5.54117191108e-06 0.0304027769941 0.0405489249648\n",
      "Total enriching machines  128.0  Max enrich  0.0405489249648   Qty  5.54117191108e-06\n"
     ]
    }
   ],
   "source": [
    "f_assay = 0.007\n",
    "p_assay = 0.035\n",
    "n_mach = 164\n",
    "\n",
    "# Calculate the desired number of enrichment stages and machines per stage by ending\n",
    "# the stages when there is less than an integer machine\n",
    "\n",
    "enrich_stages = []\n",
    "int_stages = True\n",
    "n_stage_enr = 0\n",
    "Fs = Fc\n",
    "Nfs = f_assay\n",
    "cur_mach_tot = 0\n",
    "remain_mach = n_mach\n",
    "print \"stage, #mach, Feed,   Product,    feed assay,     product assay\"\n",
    "while ((Nfs < p_assay) and (int_stages == True) and (int(remain_mach) > 0)):\n",
    "    n_mach_enr = round(machines_per_enr_stage(alpha, del_U, Fs))\n",
    "    # if the last stage doesn't have enough centrifuges then a compromise is needed\n",
    "    # assume that machines are already operating at max possible feed rate, and \n",
    "    # so some of the product from stage N-1 will be siphoned off to reduce the total\n",
    "    # feed into the last stage to be manageable. (this may not be a valid assumption)\n",
    "#    remain_mach = n_mach - cur_mach_tot\n",
    "    if (n_mach_enr >= remain_mach):\n",
    "        Fs = allowed_feed_per_stage(alpha, del_U, remain_mach)\n",
    "        cur_mach_tot += remain_mach\n",
    "        int_stages = False\n",
    "        cur_num = remain_mach\n",
    "        remain_mach = 0\n",
    "    else:\n",
    "        remain_mach -= n_mach_enr\n",
    "        cur_mach_tot += n_mach_enr\n",
    "        cur_num = n_mach_enr\n",
    "        \n",
    "#    if (n_mach_enr <= 1):\n",
    "#        int_stages = False\n",
    "    Nps = N_product_by_alpha(alpha, Nfs)\n",
    "    Ps = product_per_enr_stage(alpha, Nfs, Nps, Fs)\n",
    "    print n_stage_enr, cur_num, Fs, Ps,  Nfs, Nps\n",
    "    enrich_stages.append([n_stage_enr, n_mach_enr])\n",
    "    if (n_stage_enr == 1):\n",
    "        W_enr1 = Fs - Ps\n",
    "        Nw_enr1 = (Fs*Nfs - Ps*Nps)/W_enr1\n",
    "    Nfs = Nps\n",
    "    Fs = Ps\n",
    "    n_stage_enr+=1\n",
    "if (Nps < p_assay):\n",
    "    print \"WARNING: Not enough centrifuges, Max achievable enrichment \", Nps\n",
    "print \"Total enriching machines \", cur_mach_tot, \" Max enrich \", Nfs, \"  Qty \", Fs\n"
   ]
  },
  {
   "cell_type": "code",
   "execution_count": 31,
   "metadata": {
    "collapsed": false
   },
   "outputs": [
    {
     "name": "stdout",
     "output_type": "stream",
     "text": [
      "stage, #mach,       Feed,    W_strip,   feed assay (strip),   waste assay (strip)\n",
      "1 16.0 8.55908295278e-05 5.75892081471e-05 0.00615832301276 0.00457634331259\n",
      "2 11.0 5.75892081471e-05 3.87643518913e-05 0.00457634331259 0.00339936016885\n",
      "3 7.0 3.87643518913e-05 2.61009308299e-05 0.00339936016885 0.00252431598416\n",
      "4 5.0 1.056e-05 7.11189823407e-06 0.00252431598416 0.00187409717598\n",
      "waste of cascade (kg/mon) 18.4340402227  assay is  0.00187409717598\n",
      "Feed for strip  7.11189823407e-06\n"
     ]
    }
   ],
   "source": [
    "epsilon = alpha - 1.0\n",
    "F_strip = W_enr1\n",
    "Nf_strip = Nw_enr1\n",
    "\n",
    "# Consider the zeroth stage of cascade to be on enrich side (iterate from 0), \n",
    "# then iterate from 1 for strip side\n",
    "print \"stage, #mach,       Feed,    W_strip,   feed assay (strip),   waste assay (strip)\"\n",
    "strip_stages = []\n",
    "int_stages = True\n",
    "n_stage_str = 1\n",
    "if (remain_mach > 0):\n",
    "    while ((int_stages == True) and (int(remain_mach) > 0)):\n",
    "#    if ((int_stages == True) and (int(remain_mach) > 0)):\n",
    "        n_mach_s= round(machines_per_strip_stage(alpha, del_U, F_strip))\n",
    "        # if the last stage doesn't have enough centrifuges then a compromise is needed\n",
    "        # assume that machines are already operating at max possible feed rate, and \n",
    "        # so some of the product from stage N-1 will be siphoned off to reduce the total\n",
    "        # feed into the last stage to be manageable. (this may not be a valid assumption)\n",
    "        if (n_mach_s >= remain_mach) or (n_mach_s == 1):\n",
    "            F_strip = allowed_feed_per_stage(alpha, del_U, remain_mach)\n",
    "            cur_mach_tot += remain_mach\n",
    "            int_stages = False\n",
    "            cur_num = remain_mach\n",
    "            remain_mach = 0\n",
    "        else:\n",
    "            cur_mach_tot += n_mach_s\n",
    "            remain_mach -= n_mach_s\n",
    "            cur_num = n_mach_s\n",
    "        Nw_strip = N_waste_by_alpha(alpha, Nf_strip)\n",
    "        W_strip = waste_per_strip_stage(alpha, Nf_strip, Nw_strip, F_strip)\n",
    "        strip_stages.append([-1*n_stage_str,n_mach_s])\n",
    "        print n_stage_str, n_mach_s, F_strip, W_strip, Nf_strip, Nw_strip\n",
    "        F_strip = W_strip\n",
    "        Nf_strip = Nw_strip\n",
    "        n_stage_str+=1\n",
    "else:\n",
    "    print \"Insufficent centrifuges to have a stripping section\"\n",
    "print \"waste of cascade (kg/mon)\" , W_strip*60*60*24*30, \" assay is \", Nw_strip\n",
    "print \"Feed for strip \", F_strip"
   ]
  },
  {
   "cell_type": "code",
   "execution_count": 32,
   "metadata": {
    "collapsed": false
   },
   "outputs": [
    {
     "data": {
      "image/png": "[encoded data removed]",
      "text/plain": [
       "<matplotlib.figure.Figure at 0x7f285bec0350>"
      ]
     },
     "metadata": {},
     "output_type": "display_data"
    }
   ],
   "source": [
    "all_stages = np.array(strip_stages+enrich_stages)\n",
    "n_centrifuges = np.sum(all_stages[:,1], axis=0)\n",
    "\n",
    "bar_width = 0.8\n",
    "bar_res = plt.bar(all_stages[:,0], all_stages[:,1], bar_width)\n",
    "\n",
    "plt.xlabel('Stage')\n",
    "plt.ylabel('# Centrifuges')\n",
    "plt.title(str(int(n_centrifuges)) + \" Centrifuge Cascade\")\n",
    "plt.legend()\n",
    "\n",
    "plt.tight_layout()\n",
    "plt.show()"
   ]
  },
  {
   "cell_type": "code",
   "execution_count": null,
   "metadata": {
    "collapsed": true
   },
   "outputs": [],
   "source": []
  },
  {
   "cell_type": "code",
   "execution_count": null,
   "metadata": {
    "collapsed": true
   },
   "outputs": [],
   "source": []
  }
 ],
 "metadata": {
  "anaconda-cloud": {},
  "kernelspec": {
   "display_name": "Python [default]",
   "language": "python",
   "name": "python2"
  },
  "language_info": {
   "codemirror_mode": {
    "name": "ipython",
    "version": 2
   },
   "file_extension": ".py",
   "mimetype": "text/x-python",
   "name": "python",
   "nbconvert_exporter": "python",
   "pygments_lexer": "ipython2",
   "version": "2.7.12"
  }
 },
 "nbformat": 4,
 "nbformat_minor": 0
}
