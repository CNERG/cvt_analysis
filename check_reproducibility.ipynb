{
 "cells": [
  {
   "cell_type": "code",
   "execution_count": 1,
   "metadata": {
    "collapsed": false
   },
   "outputs": [
    {
     "name": "stdout",
     "output_type": "stream",
     "text": [
      "Populating the interactive namespace from numpy and matplotlib\n"
     ]
    }
   ],
   "source": [
    "# Render our plots inline\n",
    "%matplotlib inline\n",
    "%pylab inline  \n",
    "import numpy as np\n",
    "import pandas as pd\n",
    "import matplotlib as mpl\n",
    "import matplotlib.pyplot as plt\n",
    "import matplotlib.mlab as mlab\n"
   ]
  },
  {
   "cell_type": "code",
   "execution_count": 2,
   "metadata": {
    "collapsed": false
   },
   "outputs": [],
   "source": [
    "# General Plotting Parameters\n",
    "mpl.rcParams['figure.figsize'] = (8,5)\n",
    "mpl.rcParams['lines.linewidth'] = 2.5\n",
    "mpl.rcParams['font.weight'] = 'bold'\n",
    "mpl.rcParams['axes.linewidth'] = 1.5\n",
    "mpl.rcParams['font.size'] = 14.\n",
    "mpl.rcParams['legend.fontsize'] = 12.\n",
    "mpl.rcParams['axes.labelsize'] = 12.\n",
    "mpl.rcParams['xtick.labelsize'] = 10.\n",
    "mpl.rcParams['ytick.labelsize'] = 10.\n",
    "mpl.rcParams['xtick.minor.pad'] = 4\n",
    "mpl.rcParams['xtick.direction'] = 'out'\n",
    "mpl.rcParams['ytick.direction'] = 'out'\n",
    "#Git says this is patched, but it doesn't work from Pip --upgrade 26-mar-2015\n",
    "#mpl.rcParams['xtick.minor.visible'] = True  \n",
    "\n",
    "# These are the \"Tableau 20\" colors as RGB.  \n",
    "tableau20 = [(31, 119, 180), (174, 199, 232), (255, 127, 14),\n",
    "             (255, 187, 120), (44, 160, 44), (152, 223, 138),\n",
    "              (148, 103, 189),\n",
    "             (197, 176, 213), (140, 86, 75), (196, 156, 148),  \n",
    "             (227, 119, 194), (247, 182, 210), (127, 127, 127),\n",
    "             (199, 199, 199), (188, 189, 34), (219, 219, 141),\n",
    "             (23, 190, 207), (158, 218, 229),(214, 39, 40), (255, 152, 150)]  \n",
    "    \n",
    "# Scale the RGB values to the [0, 1] range,\n",
    "# which is the format matplotlib accepts.  \n",
    "for i in range(len(tableau20)): \n",
    "    r, g, b = tableau20[i]  \n",
    "    tableau20[i] = (r / 255., g / 255., b / 255.)  \n",
    "\n",
    "# Specific Plotting Params\n",
    "i_leu = 0\n",
    "i_delta = 2\n",
    "i_heu = 4\n",
    "\n",
    "ps = 0"
   ]
  },
  {
   "cell_type": "code",
   "execution_count": 3,
   "metadata": {
    "collapsed": false
   },
   "outputs": [
    {
     "ename": "IOError",
     "evalue": "File data/random_sink/bad_csv/test.csv does not exist",
     "output_type": "error",
     "traceback": [
      "\u001b[0;31m---------------------------------------------------------------------------\u001b[0m",
      "\u001b[0;31mIOError\u001b[0m                                   Traceback (most recent call last)",
      "\u001b[0;32m<ipython-input-3-aa8c72fa0dfe>\u001b[0m in \u001b[0;36m<module>\u001b[0;34m()\u001b[0m\n\u001b[1;32m      9\u001b[0m \u001b[0;34m\u001b[0m\u001b[0m\n\u001b[1;32m     10\u001b[0m \u001b[0;34m\u001b[0m\u001b[0m\n\u001b[0;32m---> 11\u001b[0;31m \u001b[0mraw_data\u001b[0m \u001b[0;34m=\u001b[0m \u001b[0mpd\u001b[0m\u001b[0;34m.\u001b[0m\u001b[0mread_csv\u001b[0m\u001b[0;34m(\u001b[0m\u001b[0mfile_HEU003\u001b[0m\u001b[0;34m)\u001b[0m\u001b[0;34m\u001b[0m\u001b[0m\n\u001b[0m\u001b[1;32m     12\u001b[0m \u001b[0mraw_data2\u001b[0m \u001b[0;34m=\u001b[0m \u001b[0mpd\u001b[0m\u001b[0;34m.\u001b[0m\u001b[0mread_csv\u001b[0m\u001b[0;34m(\u001b[0m\u001b[0mfile_2\u001b[0m\u001b[0;34m)\u001b[0m\u001b[0;34m\u001b[0m\u001b[0m\n\u001b[1;32m     13\u001b[0m \u001b[0mraw_data3\u001b[0m \u001b[0;34m=\u001b[0m \u001b[0mpd\u001b[0m\u001b[0;34m.\u001b[0m\u001b[0mread_csv\u001b[0m\u001b[0;34m(\u001b[0m\u001b[0mfile_3\u001b[0m\u001b[0;34m)\u001b[0m\u001b[0;34m\u001b[0m\u001b[0m\n",
      "\u001b[0;32m/Users/mbmcgarry/Library/Python/2.7/lib/python/site-packages/pandas/io/parsers.pyc\u001b[0m in \u001b[0;36mparser_f\u001b[0;34m(filepath_or_buffer, sep, dialect, compression, doublequote, escapechar, quotechar, quoting, skipinitialspace, lineterminator, header, index_col, names, prefix, skiprows, skipfooter, skip_footer, na_values, na_fvalues, true_values, false_values, delimiter, converters, dtype, usecols, engine, delim_whitespace, as_recarray, na_filter, compact_ints, use_unsigned, low_memory, buffer_lines, warn_bad_lines, error_bad_lines, keep_default_na, thousands, comment, decimal, parse_dates, keep_date_col, dayfirst, date_parser, memory_map, float_precision, nrows, iterator, chunksize, verbose, encoding, squeeze, mangle_dupe_cols, tupleize_cols, infer_datetime_format, skip_blank_lines)\u001b[0m\n\u001b[1;32m    463\u001b[0m                     skip_blank_lines=skip_blank_lines)\n\u001b[1;32m    464\u001b[0m \u001b[0;34m\u001b[0m\u001b[0m\n\u001b[0;32m--> 465\u001b[0;31m         \u001b[0;32mreturn\u001b[0m \u001b[0m_read\u001b[0m\u001b[0;34m(\u001b[0m\u001b[0mfilepath_or_buffer\u001b[0m\u001b[0;34m,\u001b[0m \u001b[0mkwds\u001b[0m\u001b[0;34m)\u001b[0m\u001b[0;34m\u001b[0m\u001b[0m\n\u001b[0m\u001b[1;32m    466\u001b[0m \u001b[0;34m\u001b[0m\u001b[0m\n\u001b[1;32m    467\u001b[0m     \u001b[0mparser_f\u001b[0m\u001b[0;34m.\u001b[0m\u001b[0m__name__\u001b[0m \u001b[0;34m=\u001b[0m \u001b[0mname\u001b[0m\u001b[0;34m\u001b[0m\u001b[0m\n",
      "\u001b[0;32m/Users/mbmcgarry/Library/Python/2.7/lib/python/site-packages/pandas/io/parsers.pyc\u001b[0m in \u001b[0;36m_read\u001b[0;34m(filepath_or_buffer, kwds)\u001b[0m\n\u001b[1;32m    239\u001b[0m \u001b[0;34m\u001b[0m\u001b[0m\n\u001b[1;32m    240\u001b[0m     \u001b[0;31m# Create the parser.\u001b[0m\u001b[0;34m\u001b[0m\u001b[0;34m\u001b[0m\u001b[0m\n\u001b[0;32m--> 241\u001b[0;31m     \u001b[0mparser\u001b[0m \u001b[0;34m=\u001b[0m \u001b[0mTextFileReader\u001b[0m\u001b[0;34m(\u001b[0m\u001b[0mfilepath_or_buffer\u001b[0m\u001b[0;34m,\u001b[0m \u001b[0;34m**\u001b[0m\u001b[0mkwds\u001b[0m\u001b[0;34m)\u001b[0m\u001b[0;34m\u001b[0m\u001b[0m\n\u001b[0m\u001b[1;32m    242\u001b[0m \u001b[0;34m\u001b[0m\u001b[0m\n\u001b[1;32m    243\u001b[0m     \u001b[0;32mif\u001b[0m \u001b[0;34m(\u001b[0m\u001b[0mnrows\u001b[0m \u001b[0;32mis\u001b[0m \u001b[0;32mnot\u001b[0m \u001b[0mNone\u001b[0m\u001b[0;34m)\u001b[0m \u001b[0;32mand\u001b[0m \u001b[0;34m(\u001b[0m\u001b[0mchunksize\u001b[0m \u001b[0;32mis\u001b[0m \u001b[0;32mnot\u001b[0m \u001b[0mNone\u001b[0m\u001b[0;34m)\u001b[0m\u001b[0;34m:\u001b[0m\u001b[0;34m\u001b[0m\u001b[0m\n",
      "\u001b[0;32m/Users/mbmcgarry/Library/Python/2.7/lib/python/site-packages/pandas/io/parsers.pyc\u001b[0m in \u001b[0;36m__init__\u001b[0;34m(self, f, engine, **kwds)\u001b[0m\n\u001b[1;32m    555\u001b[0m             \u001b[0mself\u001b[0m\u001b[0;34m.\u001b[0m\u001b[0moptions\u001b[0m\u001b[0;34m[\u001b[0m\u001b[0;34m'has_index_names'\u001b[0m\u001b[0;34m]\u001b[0m \u001b[0;34m=\u001b[0m \u001b[0mkwds\u001b[0m\u001b[0;34m[\u001b[0m\u001b[0;34m'has_index_names'\u001b[0m\u001b[0;34m]\u001b[0m\u001b[0;34m\u001b[0m\u001b[0m\n\u001b[1;32m    556\u001b[0m \u001b[0;34m\u001b[0m\u001b[0m\n\u001b[0;32m--> 557\u001b[0;31m         \u001b[0mself\u001b[0m\u001b[0;34m.\u001b[0m\u001b[0m_make_engine\u001b[0m\u001b[0;34m(\u001b[0m\u001b[0mself\u001b[0m\u001b[0;34m.\u001b[0m\u001b[0mengine\u001b[0m\u001b[0;34m)\u001b[0m\u001b[0;34m\u001b[0m\u001b[0m\n\u001b[0m\u001b[1;32m    558\u001b[0m \u001b[0;34m\u001b[0m\u001b[0m\n\u001b[1;32m    559\u001b[0m     \u001b[0;32mdef\u001b[0m \u001b[0m_get_options_with_defaults\u001b[0m\u001b[0;34m(\u001b[0m\u001b[0mself\u001b[0m\u001b[0;34m,\u001b[0m \u001b[0mengine\u001b[0m\u001b[0;34m)\u001b[0m\u001b[0;34m:\u001b[0m\u001b[0;34m\u001b[0m\u001b[0m\n",
      "\u001b[0;32m/Users/mbmcgarry/Library/Python/2.7/lib/python/site-packages/pandas/io/parsers.pyc\u001b[0m in \u001b[0;36m_make_engine\u001b[0;34m(self, engine)\u001b[0m\n\u001b[1;32m    692\u001b[0m     \u001b[0;32mdef\u001b[0m \u001b[0m_make_engine\u001b[0m\u001b[0;34m(\u001b[0m\u001b[0mself\u001b[0m\u001b[0;34m,\u001b[0m \u001b[0mengine\u001b[0m\u001b[0;34m=\u001b[0m\u001b[0;34m'c'\u001b[0m\u001b[0;34m)\u001b[0m\u001b[0;34m:\u001b[0m\u001b[0;34m\u001b[0m\u001b[0m\n\u001b[1;32m    693\u001b[0m         \u001b[0;32mif\u001b[0m \u001b[0mengine\u001b[0m \u001b[0;34m==\u001b[0m \u001b[0;34m'c'\u001b[0m\u001b[0;34m:\u001b[0m\u001b[0;34m\u001b[0m\u001b[0m\n\u001b[0;32m--> 694\u001b[0;31m             \u001b[0mself\u001b[0m\u001b[0;34m.\u001b[0m\u001b[0m_engine\u001b[0m \u001b[0;34m=\u001b[0m \u001b[0mCParserWrapper\u001b[0m\u001b[0;34m(\u001b[0m\u001b[0mself\u001b[0m\u001b[0;34m.\u001b[0m\u001b[0mf\u001b[0m\u001b[0;34m,\u001b[0m \u001b[0;34m**\u001b[0m\u001b[0mself\u001b[0m\u001b[0;34m.\u001b[0m\u001b[0moptions\u001b[0m\u001b[0;34m)\u001b[0m\u001b[0;34m\u001b[0m\u001b[0m\n\u001b[0m\u001b[1;32m    695\u001b[0m         \u001b[0;32melse\u001b[0m\u001b[0;34m:\u001b[0m\u001b[0;34m\u001b[0m\u001b[0m\n\u001b[1;32m    696\u001b[0m             \u001b[0;32mif\u001b[0m \u001b[0mengine\u001b[0m \u001b[0;34m==\u001b[0m \u001b[0;34m'python'\u001b[0m\u001b[0;34m:\u001b[0m\u001b[0;34m\u001b[0m\u001b[0m\n",
      "\u001b[0;32m/Users/mbmcgarry/Library/Python/2.7/lib/python/site-packages/pandas/io/parsers.pyc\u001b[0m in \u001b[0;36m__init__\u001b[0;34m(self, src, **kwds)\u001b[0m\n\u001b[1;32m   1059\u001b[0m         \u001b[0mkwds\u001b[0m\u001b[0;34m[\u001b[0m\u001b[0;34m'allow_leading_cols'\u001b[0m\u001b[0;34m]\u001b[0m \u001b[0;34m=\u001b[0m \u001b[0mself\u001b[0m\u001b[0;34m.\u001b[0m\u001b[0mindex_col\u001b[0m \u001b[0;32mis\u001b[0m \u001b[0;32mnot\u001b[0m \u001b[0mFalse\u001b[0m\u001b[0;34m\u001b[0m\u001b[0m\n\u001b[1;32m   1060\u001b[0m \u001b[0;34m\u001b[0m\u001b[0m\n\u001b[0;32m-> 1061\u001b[0;31m         \u001b[0mself\u001b[0m\u001b[0;34m.\u001b[0m\u001b[0m_reader\u001b[0m \u001b[0;34m=\u001b[0m \u001b[0m_parser\u001b[0m\u001b[0;34m.\u001b[0m\u001b[0mTextReader\u001b[0m\u001b[0;34m(\u001b[0m\u001b[0msrc\u001b[0m\u001b[0;34m,\u001b[0m \u001b[0;34m**\u001b[0m\u001b[0mkwds\u001b[0m\u001b[0;34m)\u001b[0m\u001b[0;34m\u001b[0m\u001b[0m\n\u001b[0m\u001b[1;32m   1062\u001b[0m \u001b[0;34m\u001b[0m\u001b[0m\n\u001b[1;32m   1063\u001b[0m         \u001b[0;31m# XXX\u001b[0m\u001b[0;34m\u001b[0m\u001b[0;34m\u001b[0m\u001b[0m\n",
      "\u001b[0;32mpandas/parser.pyx\u001b[0m in \u001b[0;36mpandas.parser.TextReader.__cinit__ (pandas/parser.c:3150)\u001b[0;34m()\u001b[0m\n",
      "\u001b[0;32mpandas/parser.pyx\u001b[0m in \u001b[0;36mpandas.parser.TextReader._setup_parser_source (pandas/parser.c:5772)\u001b[0;34m()\u001b[0m\n",
      "\u001b[0;31mIOError\u001b[0m: File data/random_sink/bad_csv/test.csv does not exist"
     ]
    }
   ],
   "source": [
    "dir = 'data/random_sink/bad_csv/'\n",
    "\n",
    "#file_HEU003 = dir + 'HEU1p_aq33_s_05_swu180_t1009_R5.csv'   # HEU trade on\n",
    "#file_2 = dir + 'HEU0p_aq33_s_05_swu180_t1009_R5.csv' #HEU off\n",
    "#file_3 = dir + 'test3_new.csv' #HEU off (repeat)\n",
    "file_HEU003 = dir + 'test.csv'   # HEU trade on\n",
    "file_2 = dir + 'test2.csv' #HEU off\n",
    "file_3 = dir + 'test3.csv' #HEU off (repeat)\n",
    "\n",
    "\n",
    "raw_data = pd.read_csv(file_HEU003) \n",
    "raw_data2 = pd.read_csv(file_2) \n",
    "raw_data3 = pd.read_csv(file_3) "
   ]
  },
  {
   "cell_type": "code",
   "execution_count": null,
   "metadata": {
    "collapsed": false
   },
   "outputs": [],
   "source": [
    "LEU = raw_data[raw_data['Prototype'] == \"LEU\"]\n",
    "delta_LEU = raw_data[raw_data['Prototype'] == \"delta_LEU\"]\n",
    "covert_HEU = raw_data[raw_data['Prototype'] == \"covert_HEU\"]"
   ]
  },
  {
   "cell_type": "code",
   "execution_count": null,
   "metadata": {
    "collapsed": false
   },
   "outputs": [],
   "source": [
    "LEU2 = raw_data2[raw_data2['Prototype'] == \"LEU\"]\n",
    "delta_LEU2 = raw_data2[raw_data2['Prototype'] == \"delta_LEU\"]\n",
    "covert_HEU2 = raw_data2[raw_data2['Prototype'] == \"covert_HEU\"]\n",
    "\n",
    "LEU3 = raw_data3[raw_data3['Prototype'] == \"LEU\"]\n",
    "delta_LEU3 = raw_data3[raw_data3['Prototype'] == \"delta_LEU\"]\n",
    "covert_HEU3 = raw_data3[raw_data3['Prototype'] == \"covert_HEU\"]"
   ]
  },
  {
   "cell_type": "code",
   "execution_count": null,
   "metadata": {
    "collapsed": false,
    "scrolled": true
   },
   "outputs": [],
   "source": [
    "p_leu = plt.plot(LEU['Time'],LEU[' Quantity'], label='LEU', color=tableau20[i_leu])\n",
    "p_delta = plt.plot(delta_LEU['Time'],delta_LEU[' Quantity'], label='$\\delta$ LEU', color=tableau20[i_delta])\n",
    "p_heu = plt.plot(covert_HEU['Time'],covert_HEU[' Quantity'], label='HEU', color=tableau20[i_heu])\n",
    "\n",
    "plt.legend(bbox_to_anchor=(0.25, 1))\n",
    "plt.xlabel('Time')\n",
    "plt.ylabel('Quantity')\n",
    "plt.title(\"$\\omega$=5 diversion on $\\delta$=0.3\")\n"
   ]
  },
  {
   "cell_type": "code",
   "execution_count": null,
   "metadata": {
    "collapsed": false
   },
   "outputs": [],
   "source": [
    "LEU_tp =(LEU[' Quantity']- LEU[' Quantity'].shift(1))\n",
    "delta_LEU_tp =  delta_LEU[' Quantity']- delta_LEU[' Quantity'].shift(1)\n",
    "covert_HEU_tp =  covert_HEU[' Quantity']- covert_HEU[' Quantity'].shift(1) "
   ]
  },
  {
   "cell_type": "code",
   "execution_count": null,
   "metadata": {
    "collapsed": false
   },
   "outputs": [],
   "source": [
    "LEU_tp2 =(LEU2[' Quantity']- LEU2[' Quantity'].shift(1))\n",
    "delta_LEU_tp2 =  delta_LEU2[' Quantity']- delta_LEU2[' Quantity'].shift(1)\n",
    "covert_HEU_tp2 =  covert_HEU2[' Quantity']- covert_HEU2[' Quantity'].shift(1) \n",
    "\n",
    "LEU_tp3 =(LEU3[' Quantity']- LEU3[' Quantity'].shift(1))\n",
    "delta_LEU_tp3 =  delta_LEU3[' Quantity']- delta_LEU3[' Quantity'].shift(1)\n",
    "covert_HEU_tp3 =  covert_HEU3[' Quantity']- covert_HEU3[' Quantity'].shift(1) \n"
   ]
  },
  {
   "cell_type": "code",
   "execution_count": null,
   "metadata": {
    "collapsed": false,
    "scrolled": true
   },
   "outputs": [],
   "source": [
    "plt.plot(LEU2['Time'],(LEU_tp2), label='Net LEU (noHEU1)', color=tableau20[i_leu+4])\n",
    "#plt.plot(LEU3['Time'],(LEU_tp3), label='Net LEU (noHEU2)', color=tableau20[i_leu+6])\n",
    "plt.legend(loc = 'best')\n",
    "plt.xlabel('Time')\n",
    "plt.ylabel('Throughput (kg)')\n",
    "plt.title(\"$\\omega$=5 diversion on $\\delta$=0.3\")\n"
   ]
  },
  {
   "cell_type": "code",
   "execution_count": null,
   "metadata": {
    "collapsed": false
   },
   "outputs": [],
   "source": [
    "ymin=31\n",
    "ymax=35\n",
    "ylim(ymin, ymax)  \n",
    "\n",
    "plt.plot(LEU2['Time'],(LEU_tp2), label='Net LEU (noHEU)', color=tableau20[i_leu+4])\n",
    "plt.plot(LEU['Time'],(LEU_tp), label='Net LEU', color=tableau20[i_leu])\n",
    "\n",
    "plt.legend(loc='best')\n",
    "plt.xlabel('Time')\n",
    "plt.ylabel('Throughput (kg)')\n",
    "\n",
    "if ps == 1:\n",
    "    savefig('CR_netLEU_thruput2.png')\n",
    "else:\n",
    "    plt.title(\"$\\omega$=5 diversion on $\\delta$=0.3\")"
   ]
  },
  {
   "cell_type": "code",
   "execution_count": null,
   "metadata": {
    "collapsed": false
   },
   "outputs": [],
   "source": [
    "plt.plot(delta_LEU['Time'],delta_LEU_tp, label='$\\delta$ LEU', color=tableau20[i_delta])\n",
    "plt.legend(bbox_to_anchor=(0.25, 1))\n",
    "plt.xlabel('Time')\n",
    "plt.ylabel('Throughput (kg)')\n",
    "plt.title(\"$\\omega$=5 diversion on $\\delta$=0.3\")\n"
   ]
  },
  {
   "cell_type": "code",
   "execution_count": null,
   "metadata": {
    "collapsed": false
   },
   "outputs": [],
   "source": [
    "plt.plot(LEU['Time'][3:],covert_HEU_tp, label='covert HEU', color=tableau20[i_heu])\n",
    "\n",
    "plt.legend(bbox_to_anchor=(0.5, 1))\n",
    "plt.xlabel('Time')\n",
    "plt.ylabel('Throughput')\n",
    "plt.title(\"$\\omega$=5 diversion on $\\delta$=0.3\")\n"
   ]
  },
  {
   "cell_type": "code",
   "execution_count": null,
   "metadata": {
    "collapsed": false
   },
   "outputs": [],
   "source": [
    "#file_4 = dir + 'HEU03p_aq33_s_05_swu180_t100_E5_n2.csv'   # HEU trade on\n",
    "file_4 = dir + 'HEU04p_aq33_s_05_swu180_t100_E5.csv'   # HEU trade on\n",
    "#file_4 = dir + 'last_test.csv'   # HEU trade on\n",
    "\n",
    "file_5 = dir + 'HEU0p_aq33_s_05_swu180_t100_E5_n5.csv' #HEU off\n",
    "\n",
    "raw_data4 = pd.read_csv(file_4) \n",
    "raw_data5 = pd.read_csv(file_5) "
   ]
  },
  {
   "cell_type": "code",
   "execution_count": null,
   "metadata": {
    "collapsed": false
   },
   "outputs": [],
   "source": [
    "LEU4 = raw_data4[raw_data4['Prototype'] == \"LEU\"]\n",
    "delta_LEU4 = raw_data4[raw_data4['Prototype'] == \"delta_LEU\"]\n",
    "covert_HEU4 = raw_data4[raw_data4['Prototype'] == \"covert_HEU\"]\n",
    "\n",
    "LEU5 = raw_data5[raw_data5['Prototype'] == \"LEU\"]\n",
    "delta_LEU5 = raw_data5[raw_data5['Prototype'] == \"delta_LEU\"]\n",
    "covert_HEU5 = raw_data5[raw_data5['Prototype'] == \"covert_HEU\"]\n"
   ]
  },
  {
   "cell_type": "code",
   "execution_count": null,
   "metadata": {
    "collapsed": false,
    "scrolled": false
   },
   "outputs": [],
   "source": [
    "p_leu = plt.plot(LEU4['Time'],LEU4[' Quantity'], label='LEU', color=tableau20[i_leu])\n",
    "p_delta = plt.plot(delta_LEU4['Time'],delta_LEU4[' Quantity'], label='$\\delta$ LEU', color=tableau20[i_delta])\n",
    "p_heu = plt.plot(covert_HEU4['Time'],covert_HEU4[' Quantity'], label='HEU', color=tableau20[i_heu])\n",
    "\n",
    "plt.legend(bbox_to_anchor=(0.25, 1))\n",
    "plt.xlabel('Time')\n",
    "plt.ylabel('Quantity')\n",
    "plt.title(\"$\\omega$=5 diversion on $\\delta$=0.03\")\n"
   ]
  },
  {
   "cell_type": "code",
   "execution_count": null,
   "metadata": {
    "collapsed": false
   },
   "outputs": [],
   "source": [
    "LEU_tp4 =(LEU4[' Quantity']- LEU4[' Quantity'].shift(1))\n",
    "delta_LEU_tp4 =  delta_LEU4[' Quantity']- delta_LEU4[' Quantity'].shift(1)\n",
    "covert_HEU_tp4 =  covert_HEU4[' Quantity']- covert_HEU4[' Quantity'].shift(1) \n",
    "\n",
    "LEU_tp5 =(LEU5[' Quantity']- LEU5[' Quantity'].shift(1))\n",
    "delta_LEU_tp5 =  delta_LEU5[' Quantity']- delta_LEU5[' Quantity'].shift(1)\n",
    "covert_HEU_tp5 =  covert_HEU5[' Quantity']- covert_HEU5[' Quantity'].shift(1) \n"
   ]
  },
  {
   "cell_type": "code",
   "execution_count": null,
   "metadata": {
    "collapsed": false
   },
   "outputs": [],
   "source": [
    "ymin=31\n",
    "ymax=35\n",
    "xmin=6\n",
    "xmax=max(LEU4['Time'])\n",
    "xlim(xmin, xmax)\n",
    "ylim(ymin, ymax)  \n",
    "alpha = 0.3\n",
    "plt.plot(LEU5['Time'],(LEU_tp5), label='Natural $\\delta_LEU$', color=tableau20[i_delta], alpha=alpha)\n",
    "plt.plot(LEU4['Time'],(LEU_tp4), label='Declared LEU', color=tableau20[i_leu])\n",
    "#plt.plot(LEU4['Time'][4:],covert_HEU_tp4*1000+5, label='covert HEU', color=tableau20[i_heu],alpha=0.2)\n",
    "\n",
    "plt.legend(loc='best')\n",
    "plt.xlabel('Time')\n",
    "plt.ylabel('Throughput (kg)')\n",
    "\n",
    "if ps == 1:\n",
    "    savefig('CR_nat_dec_E5.png')\n",
    "else:\n",
    "    plt.title(\"$\\omega$=5 diversion on $\\delta$=0.3\")\n",
    "\n"
   ]
  },
  {
   "cell_type": "code",
   "execution_count": null,
   "metadata": {
    "collapsed": false
   },
   "outputs": [],
   "source": [
    "ymin=31\n",
    "ymax=35\n",
    "xmin=6\n",
    "xmax=max(LEU4['Time'])\n",
    "xlim(xmin, xmax)\n",
    "ylim(ymin, ymax)  \n",
    "plt.plot(LEU5['Time'],(LEU_tp5), label='Natural $\\delta_LEU$', color=tableau20[i_delta])\n",
    "\n",
    "plt.legend(loc='best')\n",
    "plt.xlabel('Time')\n",
    "plt.ylabel('Throughput (kg)')\n",
    "plt.title(\"$\\omega$=5 diversion on $\\delta$=0.3\")\n",
    "\n",
    "if ps == 1:\n",
    "    savefig('CR_nat_dec_E5.png')\n",
    "else:\n",
    "    plt.title(\"$\\omega$=5 diversion on $\\delta$=0.3\")\n"
   ]
  },
  {
   "cell_type": "code",
   "execution_count": null,
   "metadata": {
    "collapsed": false
   },
   "outputs": [],
   "source": [
    "xlim(xmin, xmax)\n",
    "\n",
    "plt.plot(LEU5['Time'],(delta_LEU_tp5*-1)+0.08, label='Natural $\\delta_LEU$', color=tableau20[i_delta], alpha=alpha)\n",
    "plt.plot(LEU4['Time'],(delta_LEU_tp4*-1)+0.08, label='Declared LEU', color=tableau20[i_leu], alpha=alpha)\n",
    "plt.plot(LEU4['Time'][4:],covert_HEU_tp4*2, label='covert HEU', color=tableau20[i_heu],alpha=0.3)\n",
    "\n",
    "plt.legend(loc='best')\n",
    "plt.xlabel('Time')\n",
    "plt.ylabel('$\\Delta$ Throughput (***)')\n",
    "\n",
    "if ps == 1:\n",
    "    savefig('CR_test_delta_thruput2.png')\n",
    "else:\n",
    "    plt.title(\"$\\omega$=5 diversion on $\\delta$=0.3\")\n"
   ]
  },
  {
   "cell_type": "code",
   "execution_count": null,
   "metadata": {
    "collapsed": true
   },
   "outputs": [],
   "source": []
  },
  {
   "cell_type": "code",
   "execution_count": null,
   "metadata": {
    "collapsed": false
   },
   "outputs": [],
   "source": [
    "xlim(xmin, xmax)\n",
    "\n",
    "plt.plot(LEU4['Time'][4:],covert_HEU_tp4, label='covert HEU', color=tableau20[i_heu])\n",
    "\n",
    "plt.legend(bbox_to_anchor=(0.5, 1))\n",
    "plt.xlabel('Time')\n",
    "plt.ylabel('Throughput')\n",
    "plt.title(\"$\\omega$=5 diversion on $\\delta$=0.3\")\n",
    "\n",
    "if ps == 1:\n",
    "    savefig('CR_covert_E5.png')\n",
    "else:\n",
    "    plt.title(\"$\\omega$=5 diversion on $\\delta$=0.3\")\n"
   ]
  },
  {
   "cell_type": "code",
   "execution_count": null,
   "metadata": {
    "collapsed": true
   },
   "outputs": [],
   "source": []
  },
  {
   "cell_type": "code",
   "execution_count": null,
   "metadata": {
    "collapsed": true
   },
   "outputs": [],
   "source": []
  },
  {
   "cell_type": "code",
   "execution_count": null,
   "metadata": {
    "collapsed": true
   },
   "outputs": [],
   "source": []
  },
  {
   "cell_type": "code",
   "execution_count": null,
   "metadata": {
    "collapsed": true
   },
   "outputs": [],
   "source": []
  },
  {
   "cell_type": "code",
   "execution_count": null,
   "metadata": {
    "collapsed": true
   },
   "outputs": [],
   "source": []
  }
 ],
 "metadata": {
  "kernelspec": {
   "display_name": "Python 2",
   "language": "python",
   "name": "python2"
  },
  "language_info": {
   "codemirror_mode": {
    "name": "ipython",
    "version": 2
   },
   "file_extension": ".py",
   "mimetype": "text/x-python",
   "name": "python",
   "nbconvert_exporter": "python",
   "pygments_lexer": "ipython2",
   "version": "2.7.10"
  }
 },
 "nbformat": 4,
 "nbformat_minor": 0
}
