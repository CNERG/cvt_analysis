{
 "cells": [
  {
   "cell_type": "code",
   "execution_count": 72,
   "metadata": {
    "collapsed": false
   },
   "outputs": [
    {
     "name": "stdout",
     "output_type": "stream",
     "text": [
      "Populating the interactive namespace from numpy and matplotlib\n"
     ]
    }
   ],
   "source": [
    "# Render our plots inline\n",
    "%matplotlib inline\n",
    "%pylab inline  \n",
    "import numpy as np\n",
    "import pandas as pd\n",
    "import matplotlib as mpl\n",
    "import matplotlib.pyplot as plt\n",
    "import matplotlib.mlab as mlab\n",
    "\n",
    "# General Plotting Parameters\n",
    "mpl.rcParams['figure.figsize'] = (8,5)\n",
    "mpl.rcParams['lines.linewidth'] = 2.5\n",
    "mpl.rcParams['font.weight'] = 'bold'\n",
    "mpl.rcParams['axes.linewidth'] = 1.5\n",
    "mpl.rcParams['font.size'] = 14.\n",
    "mpl.rcParams['legend.fontsize'] = 12.\n",
    "mpl.rcParams['axes.labelsize'] = 12.\n",
    "mpl.rcParams['xtick.labelsize'] = 10.\n",
    "mpl.rcParams['ytick.labelsize'] = 10.\n",
    "mpl.rcParams['xtick.minor.pad'] = 4\n",
    "mpl.rcParams['xtick.direction'] = 'out'\n",
    "mpl.rcParams['ytick.direction'] = 'out'\n",
    "\n",
    "#Git says this is patched, but it doesn't work from Pip --upgrade 26-mar-2015\n",
    "#mpl.rcParams['xtick.minor.visible'] = True  \n",
    "\n",
    "# These are the \"Tableau 20\" colors as RGB.  \n",
    "tableau20 = [(31, 119, 180), (174, 199, 232), (255, 127, 14),\n",
    "             (255, 187, 120), (44, 160, 44), (152, 223, 138),\n",
    "              (148, 103, 189),\n",
    "             (197, 176, 213), (140, 86, 75), (196, 156, 148),  \n",
    "             (227, 119, 194), (247, 182, 210), (127, 127, 127),\n",
    "             (199, 199, 199), (188, 189, 34), (219, 219, 141),\n",
    "             (23, 190, 207), (158, 218, 229),(214, 39, 40), (255, 152, 150)]  \n",
    "    \n",
    "# Scale the RGB values to the [0, 1] range,\n",
    "# which is the format matplotlib accepts.  \n",
    "for i in range(len(tableau20)): \n",
    "    r, g, b = tableau20[i]  \n",
    "    tableau20[i] = (r / 255., g / 255., b / 255.)  "
   ]
  },
  {
   "cell_type": "code",
   "execution_count": 73,
   "metadata": {
    "collapsed": false
   },
   "outputs": [],
   "source": [
    "import calc_enrich\n",
    "reload(calc_enrich)\n",
    "from calc_enrich import calc_del_U\n",
    "from calc_enrich import stages_per_cascade\n",
    "from calc_enrich import N_product_by_alpha\n",
    "from calc_enrich import N_waste_by_alpha\n",
    "from calc_enrich import machines_per_enr_stage\n",
    "from calc_enrich import machines_per_strip_stage"
   ]
  },
  {
   "cell_type": "markdown",
   "metadata": {},
   "source": [
    "For a type of centrifuge and some cascade guidelines, design the cascade\n",
    "Start at nat U, enrich to 3.5%, \n",
    "Use IR-1 machines (Inst Sci Intl Security, IAEA 2014)"
   ]
  },
  {
   "cell_type": "code",
   "execution_count": 74,
   "metadata": {
    "collapsed": false
   },
   "outputs": [],
   "source": [
    "# centrifuge params \n",
    "omega = 64000\n",
    "d = 0.1  # m \n",
    "Z = 2.0   # m\n",
    "F_m_hrs = 70 # grams/hr  \n",
    "T = 320.0   # K\n",
    "cut = 0.5\n",
    "eff = 1.0 # centrifuge efficiency\n",
    "\n",
    "# cascade params\n",
    "Nfc = 0.0071\n",
    "Npc = 0.035\n",
    "Nwc = 0.001\n",
    "Fc_month = 739 #kg/month\n",
    "\n",
    "#unit conversions\n",
    "v_a = omega * (d/2.0)\n",
    "F_m = F_m_hrs/(60*60*1000.0)\n",
    "Fc = Fc_month/(30.4*24*60*60)\n",
    "\n",
    "# Comparison numbers (not needed for calculations)\n",
    "del_U_th_yr = 1.1 #swu/yr\n",
    "del_U_obs_yr = 0.71 #Swu/yr\n",
    "del_U_th = del_U_th_yr/(365.25*24*60*60) #kgSWU/sec\n",
    "del_U_obs = del_U_obs_yr/(365.25*24*60*60)\n",
    "\n",
    "Pc_month = 77 #kg/month\n"
   ]
  },
  {
   "cell_type": "code",
   "execution_count": 75,
   "metadata": {
    "collapsed": false
   },
   "outputs": [
    {
     "name": "stdout",
     "output_type": "stream",
     "text": [
      "L_F=  2.0\n",
      "Z_p=   1.2\n",
      "number of enrich, strip stages is  3.33915008499 4.0434067006\n"
     ]
    }
   ],
   "source": [
    "alpha, del_U, del_U_yr = calc_del_U(v_a, Z, d, F_m, T, cut, eff)\n",
    "n_enrich_s, n_strip_s= stages_per_cascade(alpha, Nfc, Npc, Nwc)\n",
    "print \"number of enrich, strip stages is \", n_enrich_s, n_strip_s\n",
    "#print del_U*60*60*24*365.25, del_U_th"
   ]
  },
  {
   "cell_type": "code",
   "execution_count": 80,
   "metadata": {
    "collapsed": false
   },
   "outputs": [
    {
     "name": "stdout",
     "output_type": "stream",
     "text": [
      "stage, #mach, Feed,   Product,    N_F,     N_P\n",
      "0 41.1072959387 0.000281356603314 0.000141164003847 0.0071 0.0105162654179\n",
      "1 20.6246109517 0.000141164003847 7.09429461565e-05 0.0105162654179 0.0155505706868\n",
      "2 10.3650408346 7.09429461565e-05 3.57397048095e-05 0.0155505706868 0.0229390081722\n",
      "3 5.22171011827 3.57397048095e-05 1.80691858614e-05 0.0229390081722 0.0337176313156\n",
      "product of cascade (kg/mon) 46.8353297529\n"
     ]
    },
    {
     "data": {
      "text/plain": [
       "[[0, 41.107295938710415],\n",
       " [1, 20.624610951681909],\n",
       " [2, 10.365040834556005],\n",
       " [3, 5.2217101182688905]]"
      ]
     },
     "execution_count": 80,
     "metadata": {},
     "output_type": "execute_result"
    }
   ],
   "source": [
    "n_stage_en = int(round(n_enrich_s)) + 1  # add one for extra partial stage lost in rounding\n",
    "epsilon = alpha - 1.0\n",
    "# starting feed stages and enrichment are starting cascade values\n",
    "Nfs = Nfc\n",
    "Fs = Fc\n",
    "print \"stage, #mach, Feed,   Product,    N_F,     N_P\"\n",
    "# http://books.sipri.org/files/books/SIPRI83Krass/SIPRI83Krass05.pdf\n",
    "# eqn 5.8 says Total # stages is N_strip + N_enrich + 1  (presumably the feed stage)\n",
    "enrich_stages = []\n",
    "for i in range(0, n_stage_en):  \n",
    "    Nps = N_product_by_alpha(alpha, Nfs)\n",
    "    n_mach, Ps = machines_per_enr_stage(alpha, del_U, Nfs, Nps, Fs)\n",
    "    enrich_stages.append([i, n_mach])\n",
    "    if (i == 1):\n",
    "        W_enr1 = Fs - Ps\n",
    "        Nw_enr1 = (Fs*Nfs - Ps*Nps)/W_enr1\n",
    "    print i, n_mach, Fs, Ps,  Nfs, Nps\n",
    "    Nfs = Nps\n",
    "    Fs = Ps\n",
    "\n",
    "print \"product of cascade (kg/mon)\" , Fs*60*60*24*30\n",
    "enrich_stages"
   ]
  },
  {
   "cell_type": "code",
   "execution_count": 77,
   "metadata": {
    "collapsed": false
   },
   "outputs": [
    {
     "name": "stdout",
     "output_type": "stream",
     "text": [
      "stage, #mach,       Feed,    W_strip,   Nf_strip,   Nw_strip\n",
      "1 10.2595701171 7.02210576906e-05 5.20912930917e-05 0.00543020634427 0.00366006303877\n",
      "2 7.61074087378 5.20912930917e-05 3.86647144659e-05 0.00366006303877 0.00246552210614\n",
      "3 5.64906542521 3.86647144659e-05 2.87100785687e-05 0.00246552210614 0.00166019587887\n",
      "4 4.19465433633 2.87100785687e-05 2.13239896068e-05 0.00166019587887 0.00111762280419\n"
     ]
    },
    {
     "data": {
      "text/plain": [
       "[[-1, 10.259570117125904],\n",
       " [-2, 7.6107408737804239],\n",
       " [-3, 5.6490654252061079],\n",
       " [-4, 4.1946543363302311]]"
      ]
     },
     "execution_count": 77,
     "metadata": {},
     "output_type": "execute_result"
    }
   ],
   "source": [
    "n_stage_str = int(round(n_strip_s)) + 1  # add one for extra partial stage lost in rounding\n",
    "epsilon = alpha - 1.0\n",
    "\n",
    "F_strip = W_enr1\n",
    "Nf_strip = Nw_enr1\n",
    "\n",
    "print \"stage, #mach,       Feed,    W_strip,   Nf_strip,   Nw_strip\"\n",
    "strip_stages = []\n",
    "for i in range(1, n_stage_str):  \n",
    "    Nw_strip = N_waste_by_alpha(alpha, Nf_strip)\n",
    "    n_mach_s, W_strip = machines_per_strip_stage(alpha, del_U, Nf_strip, Nw_strip, F_strip)\n",
    "    strip_stages.append([-1*i,n_mach_s])\n",
    "    print i, n_mach_s, F_strip, W_strip, Nf_strip, Nw_strip\n",
    "    F_strip = W_strip\n",
    "    Nf_strip = Nw_strip\n",
    "\n",
    "strip_stages"
   ]
  },
  {
   "cell_type": "code",
   "execution_count": 83,
   "metadata": {
    "collapsed": false
   },
   "outputs": [
    {
     "data": {
      "image/png": "[encoded data removed]",
      "text/plain": [
       "<matplotlib.figure.Figure at 0x11224e4d0>"
      ]
     },
     "metadata": {},
     "output_type": "display_data"
    }
   ],
   "source": [
    "all_stages = np.array(strip_stages+enrich_stages)\n",
    "bar_width = 0.8\n",
    "\n",
    "bar_res = plt.bar(all_stages[:,0], all_stages[:,1], bar_width)\n",
    "\n",
    "n_centrifuges = np\n",
    "\n",
    "plt.xlabel('Stage')\n",
    "plt.ylabel('# Centrifuges')\n",
    "plt.title('Cascade Design')\n",
    "plt.legend()\n",
    "\n",
    "plt.tight_layout()\n",
    "plt.show()\n"
   ]
  },
  {
   "cell_type": "code",
   "execution_count": null,
   "metadata": {
    "collapsed": true
   },
   "outputs": [],
   "source": []
  },
  {
   "cell_type": "code",
   "execution_count": null,
   "metadata": {
    "collapsed": true
   },
   "outputs": [],
   "source": []
  }
 ],
 "metadata": {
  "kernelspec": {
   "display_name": "Python 2",
   "language": "python",
   "name": "python2"
  },
  "language_info": {
   "codemirror_mode": {
    "name": "ipython",
    "version": 2
   },
   "file_extension": ".py",
   "mimetype": "text/x-python",
   "name": "python",
   "nbconvert_exporter": "python",
   "pygments_lexer": "ipython2",
   "version": "2.7.10"
  }
 },
 "nbformat": 4,
 "nbformat_minor": 0
}
