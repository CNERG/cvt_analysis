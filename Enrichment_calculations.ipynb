{
 "cells": [
  {
   "cell_type": "code",
   "execution_count": 239,
   "metadata": {
    "collapsed": false
   },
   "outputs": [
    {
     "name": "stdout",
     "output_type": "stream",
     "text": [
      "Populating the interactive namespace from numpy and matplotlib\n"
     ]
    }
   ],
   "source": [
    "# Render our plots inline\n",
    "%matplotlib inline\n",
    "%pylab inline  \n",
    "import numpy as np\n",
    "import pandas as pd\n",
    "import matplotlib as mpl\n",
    "import matplotlib.pyplot as plt\n",
    "import matplotlib.mlab as mlab\n",
    "\n",
    "# General Plotting Parameters\n",
    "mpl.rcParams['figure.figsize'] = (8,5)\n",
    "mpl.rcParams['lines.linewidth'] = 2.5\n",
    "mpl.rcParams['font.weight'] = 'bold'\n",
    "mpl.rcParams['axes.linewidth'] = 1.5\n",
    "mpl.rcParams['font.size'] = 14.\n",
    "mpl.rcParams['legend.fontsize'] = 12.\n",
    "mpl.rcParams['axes.labelsize'] = 12.\n",
    "mpl.rcParams['xtick.labelsize'] = 10.\n",
    "mpl.rcParams['ytick.labelsize'] = 10.\n",
    "mpl.rcParams['xtick.minor.pad'] = 4\n",
    "mpl.rcParams['xtick.direction'] = 'out'\n",
    "mpl.rcParams['ytick.direction'] = 'out'\n",
    "\n",
    "#Git says this is patched, but it doesn't work from Pip --upgrade 26-mar-2015\n",
    "#mpl.rcParams['xtick.minor.visible'] = True  \n",
    "\n",
    "# These are the \"Tableau 20\" colors as RGB.  \n",
    "tableau20 = [(31, 119, 180), (174, 199, 232), (255, 127, 14),\n",
    "             (255, 187, 120), (44, 160, 44), (152, 223, 138),\n",
    "              (148, 103, 189),\n",
    "             (197, 176, 213), (140, 86, 75), (196, 156, 148),  \n",
    "             (227, 119, 194), (247, 182, 210), (127, 127, 127),\n",
    "             (199, 199, 199), (188, 189, 34), (219, 219, 141),\n",
    "             (23, 190, 207), (158, 218, 229),(214, 39, 40), (255, 152, 150)]  \n",
    "    \n",
    "# Scale the RGB values to the [0, 1] range,\n",
    "# which is the format matplotlib accepts.  \n",
    "for i in range(len(tableau20)): \n",
    "    r, g, b = tableau20[i]  \n",
    "    tableau20[i] = (r / 255., g / 255., b / 255.)  "
   ]
  },
  {
   "cell_type": "code",
   "execution_count": 240,
   "metadata": {
    "collapsed": false
   },
   "outputs": [],
   "source": [
    "import calc_enrich\n",
    "reload(calc_enrich)\n",
    "from calc_enrich import calc_del_U\n",
    "from calc_enrich import stages_per_cascade\n",
    "from calc_enrich import N_product_by_alpha\n",
    "from calc_enrich import N_waste_by_alpha\n",
    "from calc_enrich import machines_per_enr_stage\n",
    "from calc_enrich import machines_per_strip_stage\n",
    "from calc_enrich import product_per_enr_stage\n",
    "from calc_enrich import waste_per_strip_stage\n",
    "from calc_enrich import Npc_from_Nstages\n",
    "from calc_enrich import Nwc_from_Nstages"
   ]
  },
  {
   "cell_type": "markdown",
   "metadata": {},
   "source": [
    "For a type of centrifuge and some cascade guidelines, design the cascade\n",
    "Start at nat U, enrich to 3.5%, \n",
    "Use IR-1 machines (Inst Sci Intl Security, IAEA 2014)"
   ]
  },
  {
   "cell_type": "code",
   "execution_count": 241,
   "metadata": {
    "collapsed": false
   },
   "outputs": [],
   "source": [
    "# centrifuge params \n",
    "#omega = 64000\n",
    "#d = 0.1  # m \n",
    "#Z = 2.0   # m\n",
    "#F_m_hrs = 70 # grams/hr  \n",
    "#T = 320.0   # K\n",
    "#cut = 0.5\n",
    "eff = 1.0 # centrifuge efficiency\n",
    "\n",
    "d = 0.15  # m \n",
    "Z = 1.0/2   # m\n",
    "F_m_hrs = 15*60*60/(1e3) # grams/hr  \n",
    "T = 320.0# K\n",
    "cut = 0.5\n",
    "omega = 485/(d/2)\n",
    "\n",
    "# cascade params\n",
    "Nfc = 0.0071\n",
    "Npc = 0.035\n",
    "Nwc = 0.001\n",
    "Fc_month = 739 #kg/month\n",
    "\n",
    "# The feed enrichment to be used when using a cascade designed for LEU to produce HEU.\n",
    "Nfc_mod = 0.20\n",
    "Fc_month_mod = 46 #kg/month\n",
    "\n",
    "#unit conversions\n",
    "v_a = omega * (d/2.0)\n",
    "F_m = F_m_hrs/(60*60*1000.0)\n",
    "Fc = Fc_month/(30.4*24*60*60)\n",
    "Fc_mod = Fc_month_mod/(30.4*24*60*60)\n",
    "\n",
    "\n",
    "# Comparison numbers (not needed for calculations)\n",
    "del_U_th_yr = 1.1 #swu/yr\n",
    "del_U_obs_yr = 0.71 #Swu/yr\n",
    "del_U_th = del_U_th_yr/(365.25*24*60*60) #kgSWU/sec\n",
    "del_U_obs = del_U_obs_yr/(365.25*24*60*60)\n",
    "\n",
    "Pc_month = 77 #kg/month\n"
   ]
  },
  {
   "cell_type": "code",
   "execution_count": 242,
   "metadata": {
    "collapsed": false
   },
   "outputs": [
    {
     "name": "stdout",
     "output_type": "stream",
     "text": [
      "L_F=  2.0\n",
      "Z_p=   0.3\n",
      "r_12 0.745710400669\n",
      "number of enrich, strip stages is  7.15917898455 8.66911385836 1.22680745008\n"
     ]
    }
   ],
   "source": [
    "alpha, del_U, del_U_yr = calc_del_U(v_a, Z, d, F_m, T, cut, eff)\n",
    "n_enrich_s, n_strip_s= stages_per_cascade(alpha, Nfc, Npc, Nwc)\n",
    "print \"number of enrich, strip stages is \", n_enrich_s, n_strip_s, alpha\n",
    "#print del_U*60*60*24*365.25, del_U_th"
   ]
  },
  {
   "cell_type": "code",
   "execution_count": 249,
   "metadata": {
    "collapsed": false
   },
   "outputs": [
    {
     "name": "stdout",
     "output_type": "stream",
     "text": [
      "stage, #mach, Feed,   Product,    N_F,     N_P\n",
      "0 53.2872354761 0.000281356603314 0.000140904840554 0.0071 0.00869632891104\n",
      "1 26.6865228322 0.000140904840554 7.05913800801e-05 0.00869632891104 0.0106477196174\n",
      "2 13.3695795606 7.05913800801e-05 3.53809285009e-05 0.0106477196174 0.0130312315616\n",
      "3 6.70093342821 3.53809285009e-05 1.77427498399e-05 0.0130312315616 0.0159397008959\n",
      "4 3.36036928786 1.77427498399e-05 8.90344709528e-06 0.0159397008959 0.0194845026011\n",
      "5 1.68625891956 8.90344709528e-06 4.47139673946e-06 0.0194845026011 0.0237985616263\n",
      "6 0.846855443079 4.47139673946e-06 2.24776597887e-06 0.0237985616263 0.0290395064195\n",
      "7 0.425713253574 2.24776597887e-06 1.13128530584e-06 0.0290395064195 0.0353927726992\n",
      "feed for cascade (kg/mon) 729.276315789\n",
      "product of cascade (kg/mon) 2.93229151273\n"
     ]
    },
    {
     "data": {
      "text/plain": [
       "[[0, 53.287235476106069],\n",
       " [1, 26.686522832153322],\n",
       " [2, 13.369579560620942],\n",
       " [3, 6.7009334282100523],\n",
       " [4, 3.3603692878623481],\n",
       " [5, 1.6862589195613931],\n",
       " [6, 0.84685544307918803],\n",
       " [7, 0.42571325357432338]]"
      ]
     },
     "execution_count": 249,
     "metadata": {},
     "output_type": "execute_result"
    }
   ],
   "source": [
    "n_stage_en = int(round(n_enrich_s)) + 1  # add one for extra partial stage lost in rounding\n",
    "epsilon = alpha - 1.0\n",
    "# starting feed stages and enrichment are starting cascade values\n",
    "Nfs = Nfc\n",
    "Fs = Fc\n",
    "print \"stage, #mach, Feed,   Product,    N_F,     N_P\"\n",
    "# http://books.sipri.org/files/books/SIPRI83Krass/SIPRI83Krass05.pdf\n",
    "# eqn 5.8 says Total # stages is N_strip + N_enrich + 1  (presumably the feed stage)\n",
    "enrich_stages = []\n",
    "for i in range(0, n_stage_en):  \n",
    "    Nps = N_product_by_alpha(alpha, Nfs)\n",
    "    n_mach = machines_per_enr_stage(alpha, del_U, Fs)\n",
    "    Ps = product_per_enr_stage(alpha, Nfs, Nps, Fs)\n",
    "    enrich_stages.append([i, n_mach])\n",
    "    if (i == 1):\n",
    "        W_enr1 = Fs - Ps\n",
    "        Nw_enr1 = (Fs*Nfs - Ps*Nps)/W_enr1\n",
    "    print i, n_mach, Fs, Ps,  Nfs, Nps\n",
    "    Nfs = Nps\n",
    "    Fs = Ps\n",
    "\n",
    "print \"feed for cascade (kg/mon)\" , Fc*60*60*24*30\n",
    "print \"product of cascade (kg/mon)\" , Fs*60*60*24*30\n",
    "enrich_stages"
   ]
  },
  {
   "cell_type": "code",
   "execution_count": 244,
   "metadata": {
    "collapsed": false
   },
   "outputs": [
    {
     "name": "stdout",
     "output_type": "stream",
     "text": [
      "stage, #mach,       Feed,    W_strip,   Nf_strip,   Nw_strip\n",
      "1 13.3169432715 7.03134604737e-05 4.30768172327e-05 0.00673722517597 0.00549852155458\n",
      "2 8.15848811225 4.30768172327e-05 2.63966194822e-05 0.00549852155458 0.00448653677445\n",
      "3 4.99935975042 2.63966194822e-05 1.61783543833e-05 0.00448653677445 0.00366011898437\n",
      "4 3.06408226956 1.61783543833e-05 9.91714767592e-06 0.00366011898437 0.00298547041696\n",
      "5 1.87824766589 9.91714767592e-06 6.07985774228e-06 0.00298547041696 0.00243487202021\n",
      "6 1.15148820877 6.07985774228e-06 3.72772859488e-06 0.00243487202021 0.00198561605637\n",
      "7 0.706009203575 3.72772859488e-06 2.28576321006e-06 0.00198561605637 0.00161911735196\n",
      "8 0.432909698875 2.28576321006e-06 1.40167596962e-06 0.00161911735196 0.00132017633037\n",
      "9 0.265468933641 1.40167596962e-06 8.59583412071e-07 0.00132017633037 0.00107636990893\n",
      "waste of cascade (kg/mon) 2.22804020409\n"
     ]
    }
   ],
   "source": [
    "n_stage_str = int(round(n_strip_s)) + 1  # add one for extra partial stage lost in rounding\n",
    "epsilon = alpha - 1.0\n",
    "\n",
    "F_strip = W_enr1\n",
    "Nf_strip = Nw_enr1\n",
    "\n",
    "print \"stage, #mach,       Feed,    W_strip,   Nf_strip,   Nw_strip\"\n",
    "strip_stages = []\n",
    "for i in range(1, n_stage_str):  \n",
    "    Nw_strip = N_waste_by_alpha(alpha, Nf_strip)\n",
    "    n_mach_s= machines_per_strip_stage(alpha, del_U, F_strip)\n",
    "    W_strip = waste_per_strip_stage(alpha, Nf_strip, Nw_strip, F_strip)\n",
    "    strip_stages.append([-1*i,n_mach_s])\n",
    "    print i, n_mach_s, F_strip, W_strip, Nf_strip, Nw_strip\n",
    "    F_strip = W_strip\n",
    "    Nf_strip = Nw_strip\n",
    "\n",
    "print \"waste of cascade (kg/mon)\" , W_strip*60*60*24*30"
   ]
  },
  {
   "cell_type": "code",
   "execution_count": 245,
   "metadata": {
    "collapsed": false
   },
   "outputs": [
    {
     "data": {
      "image/png": "[encoded data removed]",
      "text/plain": [
       "<matplotlib.figure.Figure at 0x10e949250>"
      ]
     },
     "metadata": {},
     "output_type": "display_data"
    }
   ],
   "source": [
    "all_stages = np.array(strip_stages+enrich_stages)\n",
    "n_centrifuges = np.sum(all_stages[:,1], axis=0)\n",
    "\n",
    "bar_width = 0.8\n",
    "bar_res = plt.bar(all_stages[:,0], all_stages[:,1], bar_width)\n",
    "\n",
    "plt.xlabel('Stage')\n",
    "plt.ylabel('# Centrifuges')\n",
    "plt.title(str(int(n_centrifuges)) + \" Centrifuge Cascade\")\n",
    "plt.legend()\n",
    "\n",
    "plt.tight_layout()\n",
    "plt.show()\n"
   ]
  },
  {
   "cell_type": "markdown",
   "metadata": {
    "collapsed": true
   },
   "source": [
    "Given the ideal cascade above, how does the product enrichment change with different feed enrichment?\n",
    "How much new product is produced given the new feed rate?"
   ]
  },
  {
   "cell_type": "code",
   "execution_count": 246,
   "metadata": {
    "collapsed": false
   },
   "outputs": [
    {
     "name": "stdout",
     "output_type": "stream",
     "text": [
      "Cascade optimized for feed=  0.0071  tails=  0.001\n",
      "When used with feed=  0.2  product=  0.605435459568  tails=  0.0252250552506\n"
     ]
    }
   ],
   "source": [
    "Npc_mod = Npc_from_Nstages(alpha, Nfc_mod, n_stage_en)\n",
    "Nwc_mod = Nwc_from_Nstages(alpha, Nfc_mod, n_stage_str)\n",
    "\n",
    "print \"Cascade optimized for feed= \", Nfc, \" tails= \", Nwc\n",
    "print \"When used with feed= \", Nfc_mod, \" product= \", Npc_mod, \" tails= \", Nwc_mod \n"
   ]
  },
  {
   "cell_type": "code",
   "execution_count": 247,
   "metadata": {
    "collapsed": false
   },
   "outputs": [
    {
     "name": "stdout",
     "output_type": "stream",
     "text": [
      "stage, Feed,   Product,    N_F,     N_P\n",
      "0 1.75134015595e-05 9.15391777472e-06 0.2 0.234714490977\n",
      "1 9.15391777472e-06 4.82061327173e-06 0.234714490977 0.273395289262\n",
      "2 4.82061327173e-06 2.55976514287e-06 0.273395289262 0.315819984178\n",
      "3 2.55976514287e-06 1.37156097636e-06 0.315819984178 0.361552207257\n",
      "4 1.37156097636e-06 7.42016363273e-07 0.361552207257 0.409938836045\n",
      "5 7.42016363273e-07 4.05503476898e-07 0.409938836045 0.460134050717\n",
      "6 4.05503476898e-07 2.23911281059e-07 0.460134050717 0.51115120583\n",
      "7 2.23911281059e-07 1.24934982786e-07 0.51115120583 0.561937107984\n",
      "product of cascade (kg/mon) 0.323831475382\n"
     ]
    }
   ],
   "source": [
    "# starting feed stages and enrichment are starting cascade values\n",
    "Nfs = Nfc_mod\n",
    "Fs_mod = Fc_mod\n",
    "print \"stage, Feed,   Product,    N_F,     N_P\"\n",
    "enrich_stages = []\n",
    "for i in range(0, n_stage_en):  \n",
    "    Nps = N_product_by_alpha(alpha, Nfs)\n",
    "    Ps_mod = product_per_enr_stage(alpha, Nfs, Nps, Fs_mod)\n",
    "    if (i == 1):\n",
    "        W_enr1_mod = Fs_mod - Ps_mod\n",
    "        Nw_enr1_mod = (Fs_mod*Nfs - Ps_mod*Nps)/W_enr1\n",
    "    print i, Fs_mod, Ps_mod,  Nfs, Nps\n",
    "    Nfs = Nps\n",
    "    Fs_mod = Ps_mod\n",
    "print \"product of cascade (kg/mon)\" , Fs_mod*60*60*24*30"
   ]
  },
  {
   "cell_type": "code",
   "execution_count": 248,
   "metadata": {
    "collapsed": false
   },
   "outputs": [
    {
     "name": "stdout",
     "output_type": "stream",
     "text": [
      "stage,    Feed,    W_strip,   Nf_strip,   Nw_strip\n",
      "1 4.33330450298e-06 2.65225998475e-06 0.0118131604603 0.00965026462551\n",
      "2 2.65225998475e-06 1.62400358486e-06 0.00965026462551 0.00788021989209\n",
      "3 1.62400358486e-06 9.94718563651e-07 0.00788021989209 0.0064327267138\n",
      "4 9.94718563651e-07 6.0943842992e-07 0.0064327267138 0.00524971216366\n",
      "5 6.0943842992e-07 3.73468981901e-07 0.00524971216366 0.00428332270363\n",
      "6 3.73468981901e-07 2.28905854087e-07 0.00428332270363 0.00349420545765\n",
      "7 2.28905854087e-07 1.40320998282e-07 0.00349420545765 0.00285005129109\n",
      "8 1.40320998282e-07 8.60280703979e-08 0.00285005129109 0.00232436947888\n",
      "9 8.60280703979e-08 5.27472625154e-08 0.00232436947888 0.00189546349539\n",
      "waste of cascade (kg/mon) 0.13672090444\n"
     ]
    }
   ],
   "source": [
    "F_strip_mod = W_enr1_mod\n",
    "Nf_strip = Nw_enr1_mod\n",
    "\n",
    "print \"stage,    Feed,    W_strip,   Nf_strip,   Nw_strip\"\n",
    "strip_stages = []\n",
    "for i in range(1, n_stage_str):  \n",
    "    Nw_strip = N_waste_by_alpha(alpha, Nf_strip)\n",
    "    W_strip_mod = waste_per_strip_stage(alpha, Nf_strip, Nw_strip, F_strip_mod)\n",
    "    strip_stages.append([-1*i,n_mach_s])\n",
    "    print i, F_strip_mod, W_strip_mod, Nf_strip, Nw_strip\n",
    "    F_strip_mod = W_strip_mod\n",
    "    Nf_strip = Nw_strip\n",
    "    \n",
    "print \"waste of cascade (kg/mon)\" , W_strip_mod*60*60*24*30\n"
   ]
  },
  {
   "cell_type": "code",
   "execution_count": null,
   "metadata": {
    "collapsed": true
   },
   "outputs": [],
   "source": []
  }
 ],
 "metadata": {
  "kernelspec": {
   "display_name": "Python 2",
   "language": "python",
   "name": "python2"
  },
  "language_info": {
   "codemirror_mode": {
    "name": "ipython",
    "version": 2
   },
   "file_extension": ".py",
   "mimetype": "text/x-python",
   "name": "python",
   "nbconvert_exporter": "python",
   "pygments_lexer": "ipython2",
   "version": "2.7.10"
  }
 },
 "nbformat": 4,
 "nbformat_minor": 0
}
