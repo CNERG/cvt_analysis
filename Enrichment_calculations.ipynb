{
 "cells": [
  {
   "cell_type": "code",
   "execution_count": 117,
   "metadata": {
    "collapsed": false
   },
   "outputs": [
    {
     "name": "stdout",
     "output_type": "stream",
     "text": [
      "Populating the interactive namespace from numpy and matplotlib\n"
     ]
    }
   ],
   "source": [
    "# Render our plots inline\n",
    "%matplotlib inline\n",
    "%pylab inline  \n",
    "import numpy as np\n",
    "import pandas as pd\n",
    "import matplotlib as mpl\n",
    "import matplotlib.pyplot as plt\n",
    "import matplotlib.mlab as mlab\n",
    "\n",
    "# General Plotting Parameters\n",
    "mpl.rcParams['figure.figsize'] = (8,5)\n",
    "mpl.rcParams['lines.linewidth'] = 2.5\n",
    "mpl.rcParams['font.weight'] = 'bold'\n",
    "mpl.rcParams['axes.linewidth'] = 1.5\n",
    "mpl.rcParams['font.size'] = 14.\n",
    "mpl.rcParams['legend.fontsize'] = 12.\n",
    "mpl.rcParams['axes.labelsize'] = 12.\n",
    "mpl.rcParams['xtick.labelsize'] = 10.\n",
    "mpl.rcParams['ytick.labelsize'] = 10.\n",
    "mpl.rcParams['xtick.minor.pad'] = 4\n",
    "mpl.rcParams['xtick.direction'] = 'out'\n",
    "mpl.rcParams['ytick.direction'] = 'out'\n",
    "\n",
    "#Git says this is patched, but it doesn't work from Pip --upgrade 26-mar-2015\n",
    "#mpl.rcParams['xtick.minor.visible'] = True  \n",
    "\n",
    "# These are the \"Tableau 20\" colors as RGB.  \n",
    "tableau20 = [(31, 119, 180), (174, 199, 232), (255, 127, 14),\n",
    "             (255, 187, 120), (44, 160, 44), (152, 223, 138),\n",
    "              (148, 103, 189),\n",
    "             (197, 176, 213), (140, 86, 75), (196, 156, 148),  \n",
    "             (227, 119, 194), (247, 182, 210), (127, 127, 127),\n",
    "             (199, 199, 199), (188, 189, 34), (219, 219, 141),\n",
    "             (23, 190, 207), (158, 218, 229),(214, 39, 40), (255, 152, 150)]  \n",
    "    \n",
    "# Scale the RGB values to the [0, 1] range,\n",
    "# which is the format matplotlib accepts.  \n",
    "for i in range(len(tableau20)): \n",
    "    r, g, b = tableau20[i]  \n",
    "    tableau20[i] = (r / 255., g / 255., b / 255.)  "
   ]
  },
  {
   "cell_type": "code",
   "execution_count": 126,
   "metadata": {
    "collapsed": false
   },
   "outputs": [],
   "source": [
    "import calc_enrich\n",
    "reload(calc_enrich)\n",
    "from calc_enrich import calc_del_U\n",
    "from calc_enrich import stages_per_cascade\n",
    "from calc_enrich import product_by_alpha\n",
    "from calc_enrich import machines_per_enr_stage\n",
    "from calc_enrich import machines_per_strip_stage"
   ]
  },
  {
   "cell_type": "markdown",
   "metadata": {},
   "source": [
    "For a type of centrifuge and some cascade guidelines, design the cascade\n",
    "Start at nat U, enrich to 3.5%, \n",
    "Use IR-1 machines (Inst Sci Intl Security, IAEA 2014)"
   ]
  },
  {
   "cell_type": "code",
   "execution_count": 132,
   "metadata": {
    "collapsed": false
   },
   "outputs": [],
   "source": [
    "# centrifuge params \n",
    "omega = 64000\n",
    "d = 0.1  # m \n",
    "Z = 2.0   # m\n",
    "F_m_hrs = 70 # grams/hr  \n",
    "del_U_th_yr = 1.1 #swu/yr\n",
    "del_U_obs_yr = 0.71 #Swu/yr\n",
    "\n",
    "\n",
    "# cascade params\n",
    "Nfc = 0.0071\n",
    "Npc = 0.035\n",
    "Nwc = 0.001\n",
    "Fc_month = 739 #kg/month\n",
    "Pc_month = 77 #kg/month\n",
    "\n",
    "#unit conversions\n",
    "v_a = omega * (d/2.0)\n",
    "F_m = F_m_hrs/(60*60*1000.0)\n",
    "del_U_th = del_U_th_yr/(365.25*24*60*60) #kgSWU/sec\n",
    "del_U_obs = del_U_obs_yr/(365.25*24*60*60)\n",
    "\n",
    "Fc = Fc_month/(30.4*24*60*60)\n",
    "Pc = Pc_month/(30.4*24*60*60)\n"
   ]
  },
  {
   "cell_type": "code",
   "execution_count": 133,
   "metadata": {
    "collapsed": false
   },
   "outputs": [
    {
     "name": "stdout",
     "output_type": "stream",
     "text": [
      "L_F=  2.0\n",
      "Z_p=   1.2\n",
      "number of enrich stages is  3.33915008499 4.0434067006\n"
     ]
    },
    {
     "data": {
      "text/plain": [
       "(8.0924010910709507e-07, 3.485689659543185e-08)"
      ]
     },
     "execution_count": 133,
     "metadata": {},
     "output_type": "execute_result"
    }
   ],
   "source": [
    "alpha, del_U, del_U_yr = calc_del_U(v_a, Z, d, F_m)\n",
    "n_enrich_s, n_strip_s= stages_per_cascade(alpha, Nfc, Npc, Nwc)\n",
    "print \"number of enrich stages is \", n_enrich_s, n_strip_s\n",
    "del_U, del_U_th"
   ]
  },
  {
   "cell_type": "code",
   "execution_count": 134,
   "metadata": {
    "collapsed": false
   },
   "outputs": [
    {
     "name": "stdout",
     "output_type": "stream",
     "text": [
      "stage, #mach,       Feed,    F_Enrich,     P_Enrich\n",
      "1 41.1072959387 0.000141164003847 0.0071 0.0105162654179\n",
      "2 20.6246109517 7.09429461565e-05 0.0105162654179 0.0155505706868\n",
      "3 10.3650408346 3.57397048095e-05 0.0155505706868 0.0229390081722\n",
      "4 5.22171011827 1.80691858614e-05 0.0229390081722 0.0337176313156\n"
     ]
    }
   ],
   "source": [
    "n_stage_en = int(round(n_enrich_s)) + 1  # add one for extra partial stage lost in rounding\n",
    "epsilon = alpha - 1.0\n",
    "# starting feed stages and enrichment are starting cascade values\n",
    "Nfs = Nfc\n",
    "Fs = Fc\n",
    "print \"stage, #mach,       Feed,    F_Enrich,     P_Enrich\"\n",
    "for i in range(1, n_stage_en + 1):  \n",
    "    Nps = product_by_alpha(alpha, Nfs)\n",
    "    n_mach, Ps = machines_per_enr_stage(alpha, del_U, Nfs, Nps, Fs)\n",
    "    if (i == 1):\n",
    "        W_enr1 = Fs - Ps\n",
    "        Nw_enr1 = (Fs*Nfs - Ps*Nps)/W_enr1\n",
    "    print i, n_mach, Ps,  Nfs, Nps\n",
    "    Nfs = Nps\n",
    "    Fs = Ps\n",
    "P_cascade = Ps"
   ]
  },
  {
   "cell_type": "code",
   "execution_count": 151,
   "metadata": {
    "collapsed": false
   },
   "outputs": [
    {
     "name": "stdout",
     "output_type": "stream",
     "text": [
      "stage, #mach,       Feed,    W_strip,   Nf_strip,   Nw_strip\n",
      "1 20.482684987 0.000140192599467 8.70146850012e-05 0.00366006303877 0.00366005326141\n",
      "2 12.7131844969 8.70146850012e-05 5.400823912e-05 0.00366005326141 0.00366004348408\n",
      "3 7.89081415714 5.400823912e-05 3.352181191e-05 0.00366004348408 0.00366003370678\n",
      "4 4.89766732451 3.352181191e-05 2.08063046739e-05 0.00366003370678 0.0036600239295\n",
      "5 3.03988217638 2.08063046739e-05 1.2914048829e-05 0.0036600239295 0.00366001415225\n"
     ]
    }
   ],
   "source": [
    "n_stage_str = int(round(n_strip_s)) + 1  # add one for extra partial stage lost in rounding\n",
    "epsilon = alpha - 1.0\n",
    "\n",
    "F_strip = W_enr1\n",
    "Nf_strip = Nw_enr1\n",
    "\n",
    "print \"stage, #mach,       Feed,    W_strip,   Nf_strip,   Nw_strip\"\n",
    "\n",
    "for i in range(1, n_stage_str + 1):  \n",
    "    Np_strip = product_by_alpha(alpha, Nf_strip)\n",
    "#    n_mach_ignore, P_strip = machines_per_enr_stage(alpha, del_U, Nf_strip, Np_strip, F_strip)\n",
    "    P_strip = F_strip*(0.5 + ((epsilon/2.0)*(Nf_strip - 0.5)))\n",
    "    W_strip = F_strip - P_strip\n",
    "    n_mach_s, Nw_strip = machines_per_strip_stage(alpha, del_U, Nf_strip, F_strip, W_strip)\n",
    "    print i, n_mach_s, F_strip, W_strip, Nf_strip, Nw_strip\n",
    "    F_strip = W_strip\n",
    "    Nf_strip = Nw_strip\n",
    "\n"
   ]
  },
  {
   "cell_type": "code",
   "execution_count": 147,
   "metadata": {
    "collapsed": false
   },
   "outputs": [
    {
     "data": {
      "text/plain": [
       "(0.48627797158433683,\n",
       " 4.3421706603939495e-06,\n",
       " 0.0036600022449126295,\n",
       " 4.3421706603939495e-06,\n",
       " 4.357654473276924e-06,\n",
       " 1.2710783474519132,\n",
       " 0.0054301343155193716)"
      ]
     },
     "execution_count": 147,
     "metadata": {},
     "output_type": "execute_result"
    }
   ],
   "source": [
    "epsilon, F_strip, Nf_strip, W_strip, P_strip, n_mach_ignore, Np_strip"
   ]
  },
  {
   "cell_type": "code",
   "execution_count": null,
   "metadata": {
    "collapsed": true
   },
   "outputs": [],
   "source": []
  },
  {
   "cell_type": "code",
   "execution_count": null,
   "metadata": {
    "collapsed": true
   },
   "outputs": [],
   "source": []
  }
 ],
 "metadata": {
  "kernelspec": {
   "display_name": "Python 2",
   "language": "python",
   "name": "python2"
  },
  "language_info": {
   "codemirror_mode": {
    "name": "ipython",
    "version": 2
   },
   "file_extension": ".py",
   "mimetype": "text/x-python",
   "name": "python",
   "nbconvert_exporter": "python",
   "pygments_lexer": "ipython2",
   "version": "2.7.10"
  }
 },
 "nbformat": 4,
 "nbformat_minor": 0
}
