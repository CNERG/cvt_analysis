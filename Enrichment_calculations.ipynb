{
 "cells": [
  {
   "cell_type": "code",
   "execution_count": 48,
   "metadata": {
    "collapsed": false
   },
   "outputs": [
    {
     "name": "stdout",
     "output_type": "stream",
     "text": [
      "Populating the interactive namespace from numpy and matplotlib\n",
      "\n"
     ]
    }
   ],
   "source": [
    "# Render our plots inline\n",
    "%matplotlib inline\n",
    "%pylab inline  \n",
    "import numpy as np\n",
    "import pandas as pd\n",
    "import matplotlib as mpl\n",
    "import matplotlib.pyplot as plt\n",
    "import matplotlib.mlab as mlab\n",
    "\n",
    "# General Plotting Parameters\n",
    "mpl.rcParams['figure.figsize'] = (8,5)\n",
    "mpl.rcParams['lines.linewidth'] = 2.5\n",
    "mpl.rcParams['font.weight'] = 'bold'\n",
    "mpl.rcParams['axes.linewidth'] = 1.5\n",
    "mpl.rcParams['font.size'] = 14.\n",
    "mpl.rcParams['legend.fontsize'] = 12.\n",
    "mpl.rcParams['axes.labelsize'] = 12.\n",
    "mpl.rcParams['xtick.labelsize'] = 10.\n",
    "mpl.rcParams['ytick.labelsize'] = 10.\n",
    "mpl.rcParams['xtick.minor.pad'] = 4\n",
    "mpl.rcParams['xtick.direction'] = 'out'\n",
    "mpl.rcParams['ytick.direction'] = 'out'\n",
    "\n",
    "#Git says this is patched, but it doesn't work from Pip --upgrade 26-mar-2015\n",
    "#mpl.rcParams['xtick.minor.visible'] = True  \n",
    "\n",
    "# These are the \"Tableau 20\" colors as RGB.  \n",
    "tableau20 = [(31, 119, 180), (174, 199, 232), (255, 127, 14),\n",
    "             (255, 187, 120), (44, 160, 44), (152, 223, 138),\n",
    "              (148, 103, 189),\n",
    "             (197, 176, 213), (140, 86, 75), (196, 156, 148),  \n",
    "             (227, 119, 194), (247, 182, 210), (127, 127, 127),\n",
    "             (199, 199, 199), (188, 189, 34), (219, 219, 141),\n",
    "             (23, 190, 207), (158, 218, 229),(214, 39, 40), (255, 152, 150)]  \n",
    "    \n",
    "# Scale the RGB values to the [0, 1] range,\n",
    "# which is the format matplotlib accepts.  \n",
    "for i in range(len(tableau20)): \n",
    "    r, g, b = tableau20[i]  \n",
    "    tableau20[i] = (r / 255., g / 255., b / 255.)  "
   ]
  },
  {
   "cell_type": "code",
   "execution_count": 49,
   "metadata": {
    "collapsed": false
   },
   "outputs": [],
   "source": [
    "import calc_enrich\n",
    "reload(calc_enrich)\n",
    "from calc_enrich import calc_del_U\n",
    "from calc_enrich import stages_per_cascade\n",
    "from calc_enrich import N_product_by_alpha\n",
    "from calc_enrich import N_waste_by_alpha\n",
    "from calc_enrich import machines_per_enr_stage\n",
    "from calc_enrich import machines_per_strip_stage\n",
    "from calc_enrich import product_per_enr_stage\n",
    "from calc_enrich import waste_per_strip_stage\n",
    "from calc_enrich import Npc_from_Nstages\n",
    "from calc_enrich import Nwc_from_Nstages"
   ]
  },
  {
   "cell_type": "markdown",
   "metadata": {},
   "source": [
    "For a type of centrifuge and some cascade guidelines, design the cascade\n",
    "Start at nat U, enrich to 3.5%, \n",
    "Use IR-1 machines (Inst Sci Intl Security, IAEA 2014)"
   ]
  },
  {
   "cell_type": "code",
   "execution_count": 50,
   "metadata": {
    "collapsed": false
   },
   "outputs": [],
   "source": [
    "# centrifuge params \n",
    "omega = 64000\n",
    "d = 0.1  # m \n",
    "Z = 2.0   # m\n",
    "F_m_hrs = 70 # grams/hr  \n",
    "T = 320.0   # K\n",
    "cut = 0.5\n",
    "eff = 0.4 # centrifuge efficiency\n",
    "\n",
    "# cascade params\n",
    "Nfc = 0.0071\n",
    "Npc = 0.035\n",
    "Nwc = 0.001\n",
    "Fc_month = 739 #kg/month\n",
    "\n",
    "# The feed enrichment to be used when using a cascade designed for LEU to produce HEU.\n",
    "Nfc_mod = 0.20\n",
    "Fc_month_mod = 46 #kg/month\n",
    "\n",
    "#unit conversions\n",
    "v_a = omega * (d/2.0)\n",
    "F_m = F_m_hrs/(60*60*1000.0)\n",
    "Fc = Fc_month/(30.4*24*60*60)\n",
    "Fc_mod = Fc_month_mod/(30.4*24*60*60)\n",
    "\n",
    "\n",
    "# Comparison numbers (not needed for calculations)\n",
    "del_U_th_yr = 1.1 #swu/yr\n",
    "del_U_obs_yr = 0.71 #Swu/yr\n",
    "del_U_th = del_U_th_yr/(365.25*24*60*60) #kgSWU/sec\n",
    "del_U_obs = del_U_obs_yr/(365.25*24*60*60)\n",
    "\n",
    "Pc_month = 77 #kg/month\n"
   ]
  },
  {
   "cell_type": "code",
   "execution_count": 51,
   "metadata": {
    "collapsed": false
   },
   "outputs": [
    {
     "name": "stdout",
     "output_type": "stream",
     "text": [
      "L_F=  2.0\n",
      "Z_p=   1.2\n",
      "number of enrich, strip stages is  5.27965985885 6.39318734013\n"
     ]
    }
   ],
   "source": [
    "alpha, del_U, del_U_yr = calc_del_U(v_a, Z, d, F_m, T, cut, eff)\n",
    "n_enrich_s, n_strip_s= stages_per_cascade(alpha, Nfc, Npc, Nwc)\n",
    "print \"number of enrich, strip stages is \", n_enrich_s, n_strip_s\n",
    "#print del_U*60*60*24*365.25, del_U_th"
   ]
  },
  {
   "cell_type": "code",
   "execution_count": 52,
   "metadata": {
    "collapsed": false
   },
   "outputs": [
    {
     "name": "stdout",
     "output_type": "stream",
     "text": [
      "stage, #mach, Feed,   Product,    N_F,     N_P\n",
      "0 41.1072959387 0.000281356603314 0.000140985486694 0.0071 0.00926337178009\n",
      "1 20.5985289001 0.000140985486694 7.06935731207e-05 0.00926337178009 0.0120779050405\n",
      "2 10.3286064624 7.06935731207e-05 3.54780839646e-05 0.0120779050405 0.0157340102248\n",
      "3 5.18348629354 3.54780839646e-05 1.78248808898e-05 0.0157340102248 0.020473919445\n",
      "4 2.60428454559 1.78248808898e-05 8.96855974207e-06 0.020473919445 0.0266031438416\n",
      "5 1.31034152076 8.96855974207e-06 4.52096924189e-06 0.0266031438416 0.0345026265258\n",
      "feed for cascade (kg/mon) 729.276315789\n",
      "product of cascade (kg/mon) 11.718352275\n"
     ]
    }
   ],
   "source": [
    "n_stage_en = int(round(n_enrich_s)) + 1  # add one for extra partial stage lost in rounding\n",
    "epsilon = alpha - 1.0\n",
    "# starting feed stages and enrichment are starting cascade values\n",
    "Nfs = Nfc\n",
    "Fs = Fc\n",
    "print \"stage, #mach, Feed,   Product,    N_F,     N_P\"\n",
    "# http://books.sipri.org/files/books/SIPRI83Krass/SIPRI83Krass05.pdf\n",
    "# eqn 5.8 says Total # stages is N_strip + N_enrich + 1  (presumably the feed stage)\n",
    "enrich_stages = []\n",
    "for i in range(0, n_stage_en):  \n",
    "    Nps = N_product_by_alpha(alpha, Nfs)\n",
    "    n_mach = machines_per_enr_stage(alpha, del_U, Fs)\n",
    "    Ps = product_per_enr_stage(alpha, Nfs, Nps, Fs)\n",
    "    enrich_stages.append([i, n_mach])\n",
    "    if (i == 1):\n",
    "        W_enr1 = Fs - Ps\n",
    "        Nw_enr1 = (Fs*Nfs - Ps*Nps)/W_enr1\n",
    "    print i, n_mach, Fs, Ps,  Nfs, Nps\n",
    "    Nfs = Nps\n",
    "    Fs = Ps\n",
    "\n",
    "print \"feed for cascade (kg/mon)\" , Fc*60*60*24*30\n",
    "print \"product of cascade (kg/mon)\" , Fs*60*60*24*30"
   ]
  },
  {
   "cell_type": "code",
   "execution_count": 53,
   "metadata": {
    "collapsed": false
   },
   "outputs": [
    {
     "name": "stdout",
     "output_type": "stream",
     "text": [
      "stage, #mach,       Feed,    W_strip,   Nf_strip,   Nw_strip\n",
      "1 10.2699224377 7.02919135733e-05 4.58855350724e-05 0.00643275581404 0.0049271596703\n",
      "2 6.70405544889 4.58855350724e-05 2.99640309978e-05 0.0049271596703 0.0037726125346\n",
      "3 4.37786167176 2.99640309978e-05 1.95723391863e-05 0.0037726125346 0.0028878172878\n",
      "4 2.85959501098 1.95723391863e-05 1.27872066102e-05 0.0028878172878 0.00221007375527\n",
      "5 1.86826070604 1.27872066102e-05 8.35560507036e-06 0.00221007375527 0.00169112048107\n",
      "6 1.22078645508 8.35560507036e-06 5.46050944782e-06 0.00169112048107 0.0012938659846\n",
      "waste of cascade (kg/mon) 14.1536404888\n"
     ]
    }
   ],
   "source": [
    "n_stage_str = int(round(n_strip_s)) + 1  # add one for extra partial stage lost in rounding\n",
    "epsilon = alpha - 1.0\n",
    "\n",
    "F_strip = W_enr1\n",
    "Nf_strip = Nw_enr1\n",
    "\n",
    "print \"stage, #mach,       Feed,    W_strip,   Nf_strip,   Nw_strip\"\n",
    "strip_stages = []\n",
    "for i in range(1, n_stage_str):  \n",
    "    Nw_strip = N_waste_by_alpha(alpha, Nf_strip)\n",
    "    n_mach_s= machines_per_strip_stage(alpha, del_U, F_strip)\n",
    "    W_strip = waste_per_strip_stage(alpha, Nf_strip, Nw_strip, F_strip)\n",
    "    strip_stages.append([-1*i,n_mach_s])\n",
    "    print i, n_mach_s, F_strip, W_strip, Nf_strip, Nw_strip\n",
    "    F_strip = W_strip\n",
    "    Nf_strip = Nw_strip\n",
    "\n",
    "print \"waste of cascade (kg/mon)\" , W_strip*60*60*24*30"
   ]
  },
  {
   "cell_type": "code",
   "execution_count": 54,
   "metadata": {
    "collapsed": false
   },
   "outputs": [
    {
     "data": {
      "image/png": "[encoded data removed]",
      "text/plain": [
       "<matplotlib.figure.Figure at 0x10e7d9450>"
      ]
     },
     "metadata": {},
     "output_type": "display_data"
    }
   ],
   "source": [
    "all_stages = np.array(strip_stages+enrich_stages)\n",
    "n_centrifuges = np.sum(all_stages[:,1], axis=0)\n",
    "\n",
    "bar_width = 0.8\n",
    "bar_res = plt.bar(all_stages[:,0], all_stages[:,1], bar_width)\n",
    "\n",
    "plt.xlabel('Stage')\n",
    "plt.ylabel('# Centrifuges')\n",
    "plt.title(str(int(n_centrifuges)) + \" Centrifuge Cascade\")\n",
    "plt.legend()\n",
    "\n",
    "plt.tight_layout()\n",
    "plt.show()\n"
   ]
  },
  {
   "cell_type": "markdown",
   "metadata": {
    "collapsed": true
   },
   "source": [
    "Given the ideal cascade above, how does the product enrichment change with different feed enrichment?\n",
    "How much new product is produced given the new feed rate?"
   ]
  },
  {
   "cell_type": "code",
   "execution_count": 55,
   "metadata": {
    "collapsed": false
   },
   "outputs": [
    {
     "name": "stdout",
     "output_type": "stream",
     "text": [
      "Cascade optimized for feed=  0.0071  tails=  0.001\n",
      "When used with feed=  0.2  product=  0.612777110969  tails=  0.0282188970756\n"
     ]
    }
   ],
   "source": [
    "Npc_mod = Npc_from_Nstages(alpha, Nfc_mod, n_stage_en)\n",
    "Nwc_mod = Nwc_from_Nstages(alpha, Nfc_mod, n_stage_str)\n",
    "\n",
    "print \"Cascade optimized for feed= \", Nfc, \" tails= \", Nwc\n",
    "print \"When used with feed= \", Nfc_mod, \" product= \", Npc_mod, \" tails= \", Nwc_mod \n"
   ]
  },
  {
   "cell_type": "code",
   "execution_count": 56,
   "metadata": {
    "collapsed": false
   },
   "outputs": [
    {
     "name": "stdout",
     "output_type": "stream",
     "text": [
      "stage, Feed,   Product,    N_F,     N_P\n",
      "0 1.75134015595e-05 9.29532403177e-06 0.2 0.246356490657\n",
      "1 9.29532403177e-06 4.99980021522e-06 0.246356490657 0.299435945214\n",
      "2 4.99980021522e-06 2.73011911683e-06 0.299435945214 0.358511449134\n",
      "3 2.73011911683e-06 1.5155708983e-06 0.358511449134 0.422217674571\n",
      "4 1.5155708983e-06 8.56185939672e-07 0.422217674571 0.488621549714\n",
      "5 8.56185939672e-07 4.92424710834e-07 0.488621549714 0.555429460226\n",
      "product of cascade (kg/mon) 1.27636485048\n"
     ]
    }
   ],
   "source": [
    "# starting feed stages and enrichment are starting cascade values\n",
    "Nfs = Nfc_mod\n",
    "Fs_mod = Fc_mod\n",
    "print \"stage, Feed,   Product,    N_F,     N_P\"\n",
    "enrich_stages = []\n",
    "for i in range(0, n_stage_en):  \n",
    "    Nps = N_product_by_alpha(alpha, Nfs)\n",
    "    Ps_mod = product_per_enr_stage(alpha, Nfs, Nps, Fs_mod)\n",
    "    if (i == 1):\n",
    "        W_enr1_mod = Fs_mod - Ps_mod\n",
    "        Nw_enr1_mod = (Fs_mod*Nfs - Ps_mod*Nps)/W_enr1\n",
    "    print i, Fs_mod, Ps_mod,  Nfs, Nps\n",
    "    Nfs = Nps\n",
    "    Fs_mod = Ps_mod\n",
    "print \"product of cascade (kg/mon)\" , Fs_mod*60*60*24*30"
   ]
  },
  {
   "cell_type": "code",
   "execution_count": 57,
   "metadata": {
    "collapsed": false
   },
   "outputs": [
    {
     "name": "stdout",
     "output_type": "stream",
     "text": [
      "stage,    Feed,    W_strip,   Nf_strip,   Nw_strip\n",
      "1 4.29552381655e-06 2.80085389477e-06 0.0112792989173 0.0086492367959\n",
      "2 2.80085389477e-06 1.82740189741e-06 0.0086492367959 0.00662833080148\n",
      "3 1.82740189741e-06 1.19284632443e-06 0.00662833080148 0.00507719395\n",
      "4 1.19284632443e-06 7.78921317622e-07 0.00507719395 0.00388762767474\n",
      "5 7.78921317622e-07 5.08773316746e-07 0.00388762767474 0.00297593837093\n",
      "6 5.08773316746e-07 3.32390243186e-07 0.00297593837093 0.00227756088882\n",
      "waste of cascade (kg/mon) 0.861555510339\n"
     ]
    }
   ],
   "source": [
    "F_strip_mod = W_enr1_mod\n",
    "Nf_strip = Nw_enr1_mod\n",
    "\n",
    "print \"stage,    Feed,    W_strip,   Nf_strip,   Nw_strip\"\n",
    "strip_stages = []\n",
    "for i in range(1, n_stage_str):  \n",
    "    Nw_strip = N_waste_by_alpha(alpha, Nf_strip)\n",
    "    W_strip_mod = waste_per_strip_stage(alpha, Nf_strip, Nw_strip, F_strip_mod)\n",
    "    strip_stages.append([-1*i,n_mach_s])\n",
    "    print i, F_strip_mod, W_strip_mod, Nf_strip, Nw_strip\n",
    "    F_strip_mod = W_strip_mod\n",
    "    Nf_strip = Nw_strip\n",
    "    \n",
    "print \"waste of cascade (kg/mon)\" , W_strip_mod*60*60*24*30\n"
   ]
  },
  {
   "cell_type": "code",
   "execution_count": null,
   "metadata": {
    "collapsed": true
   },
   "outputs": [],
   "source": []
  }
 ],
 "metadata": {
  "kernelspec": {
   "display_name": "Python 2",
   "language": "python",
   "name": "python2"
  },
  "language_info": {
   "codemirror_mode": {
    "name": "ipython",
    "version": 2
   },
   "file_extension": ".py",
   "mimetype": "text/x-python",
   "name": "python",
   "nbconvert_exporter": "python",
   "pygments_lexer": "ipython2",
   "version": "2.7.10"
  }
 },
 "nbformat": 4,
 "nbformat_minor": 0
}
